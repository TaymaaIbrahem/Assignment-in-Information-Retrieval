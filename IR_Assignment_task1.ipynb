{
  "nbformat": 4,
  "nbformat_minor": 0,
  "metadata": {
    "colab": {
      "provenance": []
    },
    "kernelspec": {
      "name": "python3",
      "display_name": "Python 3"
    },
    "language_info": {
      "name": "python"
    }
  },
  "cells": [
    {
      "cell_type": "markdown",
      "source": [
        "Task 1 Language modeling for the directory \"Train and Test\"\n",
        "\n",
        "For this Task we have used the existing python libraries like nltk to build a unigram model where each word's probability is estimated using the Simple Good-Turing method based on its frequency in the training texts.\n",
        "\n",
        "Index:\n",
        "\n",
        "a. importing libraries, implementing functions and loading the data.\n",
        "\n",
        "b. Creating language models:\n",
        "\n",
        "1. General LM without linguistic operations.\n",
        "2. LM with case folding.\n",
        "3. LM with stemming.\n",
        "4. LM with removing stop-words.\n",
        "\n",
        "C. Comparination and discussion the differences."
      ],
      "metadata": {
        "id": "oH-hnVXYWJrC"
      }
    },
    {
      "cell_type": "markdown",
      "source": [
        "# ***A >>***"
      ],
      "metadata": {
        "id": "6SkmdwwpRZQP"
      }
    },
    {
      "cell_type": "code",
      "execution_count": null,
      "metadata": {
        "id": "kYGr3D8a9GcH"
      },
      "outputs": [],
      "source": [
        "from sklearn.model_selection import train_test_split\n",
        "from nltk.tokenize import word_tokenize\n",
        "from nltk.stem import PorterStemmer\n",
        "from nltk.corpus import stopwords\n",
        "import numpy as np\n",
        "import string\n",
        "import nltk\n",
        "import re\n",
        "import os"
      ]
    },
    {
      "cell_type": "code",
      "source": [
        "# improting google drive\n",
        "from google.colab import drive\n",
        "drive.mount('/content/drive')"
      ],
      "metadata": {
        "colab": {
          "base_uri": "https://localhost:8080/"
        },
        "id": "k32qXZ7n9_Tf",
        "outputId": "64a6ee37-8f0f-4e3e-de6a-e9f94a8074eb"
      },
      "execution_count": null,
      "outputs": [
        {
          "output_type": "stream",
          "name": "stdout",
          "text": [
            "Mounted at /content/drive\n"
          ]
        }
      ]
    },
    {
      "cell_type": "code",
      "source": [
        "directory = '/content/drive/MyDrive/IR_data/Algorithmic transparency/text'"
      ],
      "metadata": {
        "id": "-r4CXEGt-Ilq"
      },
      "execution_count": null,
      "outputs": []
    },
    {
      "cell_type": "code",
      "source": [
        "# change working directory\n",
        "os.chdir(directory)"
      ],
      "metadata": {
        "id": "DibSMvA8-MUL"
      },
      "execution_count": null,
      "outputs": []
    },
    {
      "cell_type": "code",
      "source": [
        "import nltk\n",
        "nltk.download('punkt')"
      ],
      "metadata": {
        "colab": {
          "base_uri": "https://localhost:8080/"
        },
        "id": "aCLyOuN2_Mdc",
        "outputId": "cbb9bf23-142b-45ce-c3e7-7ca5e62060bc"
      },
      "execution_count": null,
      "outputs": [
        {
          "output_type": "stream",
          "name": "stderr",
          "text": [
            "[nltk_data] Downloading package punkt to /root/nltk_data...\n",
            "[nltk_data]   Unzipping tokenizers/punkt.zip.\n"
          ]
        },
        {
          "output_type": "execute_result",
          "data": {
            "text/plain": [
              "True"
            ]
          },
          "metadata": {},
          "execution_count": 5
        }
      ]
    },
    {
      "cell_type": "code",
      "source": [
        "import nltk\n",
        "nltk.download('stopwords')"
      ],
      "metadata": {
        "colab": {
          "base_uri": "https://localhost:8080/"
        },
        "id": "sG4NAskmMIl7",
        "outputId": "ac73d7a9-7354-44e2-8328-c7cd94baeb00"
      },
      "execution_count": null,
      "outputs": [
        {
          "output_type": "stream",
          "name": "stderr",
          "text": [
            "[nltk_data] Downloading package stopwords to /root/nltk_data...\n",
            "[nltk_data]   Unzipping corpora/stopwords.zip.\n"
          ]
        },
        {
          "output_type": "execute_result",
          "data": {
            "text/plain": [
              "True"
            ]
          },
          "metadata": {},
          "execution_count": 6
        }
      ]
    },
    {
      "cell_type": "code",
      "source": [
        "#function that calculate the perplexity, a measurement to evaluate the model\n",
        "def perplexity(model, test_set):\n",
        "    log_prob = 0.0\n",
        "    word_count = 0\n",
        "    for sentence in test_set:\n",
        "        for word in sentence:\n",
        "            word_count += 1\n",
        "            log_prob += -model.logprob(word)\n",
        "    entropy = log_prob / word_count\n",
        "    return 2 ** entropy"
      ],
      "metadata": {
        "id": "ipvaHumD-V3E"
      },
      "execution_count": null,
      "outputs": []
    },
    {
      "cell_type": "code",
      "source": [
        "# Step 1: Read the text files from the directory\n",
        "files = os.listdir(directory)\n",
        "texts = []\n",
        "for file in files:\n",
        "    with open(os.path.join(directory, file), \"r\") as f:\n",
        "        texts.append(f.read())"
      ],
      "metadata": {
        "id": "mhRkdTUU-aDv"
      },
      "execution_count": null,
      "outputs": []
    },
    {
      "cell_type": "markdown",
      "source": [
        "# ***B >>***"
      ],
      "metadata": {
        "id": "OGOtPH89RPvA"
      }
    },
    {
      "cell_type": "markdown",
      "source": [
        "1.General approach without Performing a set of linguistic operations"
      ],
      "metadata": {
        "id": "-Kh_pJBG-lwH"
      }
    },
    {
      "cell_type": "code",
      "source": [
        "# Step 2: Tokenize the text data\n",
        "tokenized_texts = [word_tokenize(text) for text in texts]\n",
        "# Remove duplicates from each tokenized text\n",
        "unique_tokenized_texts = [list(dict.fromkeys(tokens)) for tokens in tokenized_texts]"
      ],
      "metadata": {
        "id": "C_KQcZLo-pmE"
      },
      "execution_count": null,
      "outputs": []
    },
    {
      "cell_type": "code",
      "source": [
        "# Step 3: Split the dataset into training, testing, and validation sets\n",
        "train_texts, test_val_texts = train_test_split(tokenized_texts, test_size=0.2, random_state=42)\n",
        "test_texts, val_texts = train_test_split(test_val_texts, test_size=0.5, random_state=42)"
      ],
      "metadata": {
        "id": "ISNCYaWS_ROl"
      },
      "execution_count": null,
      "outputs": []
    },
    {
      "cell_type": "code",
      "source": [
        "# Step 4: Train a unigram language model\n",
        "unigram_model = nltk.probability.SimpleGoodTuringProbDist(nltk.FreqDist(word for text in train_texts for word in text))"
      ],
      "metadata": {
        "id": "jPiCB-l2_bdb"
      },
      "execution_count": null,
      "outputs": []
    },
    {
      "cell_type": "code",
      "source": [
        "# Step 5: Test the model\n",
        "test_perplexity = perplexity(unigram_model, test_texts)\n",
        "print(\"Test Perplexity:\", test_perplexity)\n",
        "\n",
        "# Step 6: Perform validation and print the result\n",
        "val_perplexity = perplexity(unigram_model, val_texts)\n",
        "print(\"Validation Perplexity:\", val_perplexity)"
      ],
      "metadata": {
        "colab": {
          "base_uri": "https://localhost:8080/"
        },
        "id": "VIULPXMG_tmN",
        "outputId": "8c4efd42-c9d8-432f-f936-956ea915ea19"
      },
      "execution_count": null,
      "outputs": [
        {
          "output_type": "stream",
          "name": "stdout",
          "text": [
            "Test Perplexity: 834.7941102417194\n",
            "Validation Perplexity: 841.8388373764029\n"
          ]
        }
      ]
    },
    {
      "cell_type": "markdown",
      "source": [
        "2.The same model but with performing Case folding"
      ],
      "metadata": {
        "id": "eWsT9RivHxFj"
      }
    },
    {
      "cell_type": "code",
      "source": [
        "# Step 2: Perform case folding (convert to lowercase) then  tokenization\n",
        "lowercased_texts = [text.lower() for text in texts]\n",
        "# Remove duplicates and then tokenize each lowercased text\n",
        "tokenized_texts = []\n",
        "for text in lowercased_texts:\n",
        "    # Remove duplicates\n",
        "    unique_text = list(dict.fromkeys(text))\n",
        "    # Tokenize the lowercased text\n",
        "    tokenized_text = word_tokenize(\" \".join(unique_text))\n",
        "    tokenized_texts.append(tokenized_text)"
      ],
      "metadata": {
        "id": "o0qkYS_aH8nj"
      },
      "execution_count": null,
      "outputs": []
    },
    {
      "cell_type": "code",
      "source": [
        "# Step 3: Split the dataset into training, testing, and validation sets\n",
        "train_texts, test_val_texts = train_test_split(tokenized_texts, test_size=0.2, random_state=42)\n",
        "test_texts, val_texts = train_test_split(test_val_texts, test_size=0.5, random_state=42)"
      ],
      "metadata": {
        "id": "zbms8GxJILGM"
      },
      "execution_count": null,
      "outputs": []
    },
    {
      "cell_type": "code",
      "source": [
        "# Step 4: Train a unigram language model\n",
        "unigram_model = nltk.probability.SimpleGoodTuringProbDist(nltk.FreqDist(word for text in train_texts for word in text))"
      ],
      "metadata": {
        "colab": {
          "base_uri": "https://localhost:8080/"
        },
        "id": "K23hMYZLIPLm",
        "outputId": "f37f7abf-73a8-4a12-c0f9-8678b6d7b0cf"
      },
      "execution_count": null,
      "outputs": [
        {
          "output_type": "stream",
          "name": "stderr",
          "text": [
            "/usr/local/lib/python3.10/dist-packages/nltk/probability.py:1452: UserWarning: SimpleGoodTuring did not find a proper best fit line for smoothing probabilities of occurrences. The probability estimates are likely to be unreliable.\n",
            "  warnings.warn(\n"
          ]
        }
      ]
    },
    {
      "cell_type": "code",
      "source": [
        "# Step 5: Test the model\n",
        "test_perplexity = perplexity(unigram_model, test_texts)\n",
        "print(\"Test Perplexity:\", test_perplexity)\n",
        "\n",
        "# Step 6: Perform validation and print the result\n",
        "val_perplexity = perplexity(unigram_model, val_texts)\n",
        "print(\"Validation Perplexity:\", val_perplexity)"
      ],
      "metadata": {
        "colab": {
          "base_uri": "https://localhost:8080/"
        },
        "id": "Re56C5hTKSaN",
        "outputId": "bf2dd1ed-2bcd-4003-d9bf-eccf8238f592"
      },
      "execution_count": null,
      "outputs": [
        {
          "output_type": "stream",
          "name": "stdout",
          "text": [
            "Test Perplexity: 94.89698496734101\n",
            "Validation Perplexity: 92.95022456418528\n"
          ]
        }
      ]
    },
    {
      "cell_type": "markdown",
      "source": [
        "3.The same model but with performing Stemming"
      ],
      "metadata": {
        "id": "jho9l-VGKVtt"
      }
    },
    {
      "cell_type": "code",
      "source": [
        "# Step 2: Perform stemming then tokenization\n",
        "stemmer = PorterStemmer()\n",
        "stemmed_texts = [[stemmer.stem(word) for word in text] for text in texts]\n",
        "tokenized_texts = []\n",
        "for text in stemmed_texts:\n",
        "    # Remove duplicates\n",
        "    unique_text = list(dict.fromkeys(text))\n",
        "    # Tokenize the lowercased text\n",
        "    tokenized_text = word_tokenize(\" \".join(unique_text))\n",
        "    tokenized_texts.append(tokenized_text)"
      ],
      "metadata": {
        "id": "Yr3qV09ALcyN"
      },
      "execution_count": null,
      "outputs": []
    },
    {
      "cell_type": "code",
      "source": [
        "# Step 3: Split the dataset into training, testing, and validation sets\n",
        "train_texts, test_val_texts = train_test_split(stemmed_texts, test_size=0.2, random_state=42)\n",
        "test_texts, val_texts = train_test_split(test_val_texts, test_size=0.5, random_state=42)"
      ],
      "metadata": {
        "id": "LuZ-NcX6LyvT"
      },
      "execution_count": null,
      "outputs": []
    },
    {
      "cell_type": "code",
      "source": [
        "# Step 4: Train a unigram language model\n",
        "unigram_model = nltk.probability.SimpleGoodTuringProbDist(nltk.FreqDist(word for text in train_texts for word in text))"
      ],
      "metadata": {
        "id": "5QHEhYl1L3Y5"
      },
      "execution_count": null,
      "outputs": []
    },
    {
      "cell_type": "code",
      "source": [
        "# Step 5: Test the model\n",
        "test_perplexity = perplexity(unigram_model, test_texts)\n",
        "print(\"Test Perplexity:\", test_perplexity)\n",
        "\n",
        "# Step 6: Perform validation and print the result\n",
        "val_perplexity = perplexity(unigram_model, val_texts)\n",
        "print(\"Validation Perplexity:\", val_perplexity)"
      ],
      "metadata": {
        "colab": {
          "base_uri": "https://localhost:8080/"
        },
        "id": "cRVP7p9hL8X4",
        "outputId": "56c32c17-6cdb-49e0-ed18-17c88d347aaf"
      },
      "execution_count": null,
      "outputs": [
        {
          "output_type": "stream",
          "name": "stdout",
          "text": [
            "Test Perplexity: 25.739942427853403\n",
            "Validation Perplexity: 23.935279549284676\n"
          ]
        }
      ]
    },
    {
      "cell_type": "markdown",
      "source": [
        "4.The same model but with removing Stop Words"
      ],
      "metadata": {
        "id": "u-_TM3XTMM7s"
      }
    },
    {
      "cell_type": "code",
      "source": [
        "# Step 2: Remove stop words then tokenization\n",
        "stop_words = set(stopwords.words('english'))\n",
        "filtered_texts = [[word for word in text if word.lower() not in stop_words] for text in texts]\n",
        "tokenized_texts = []\n",
        "for text in filtered_texts:\n",
        "    # Remove duplicates\n",
        "    unique_text = list(dict.fromkeys(text))\n",
        "    # Tokenize the lowercased text\n",
        "    tokenized_text = word_tokenize(\" \".join(unique_text))\n",
        "    tokenized_texts.append(tokenized_text)"
      ],
      "metadata": {
        "id": "dNQjrtjxMRTk"
      },
      "execution_count": null,
      "outputs": []
    },
    {
      "cell_type": "code",
      "source": [
        "# Step 3: Split the dataset into training, testing, and validation sets\n",
        "train_texts, test_val_texts = train_test_split(filtered_texts, test_size=0.2, random_state=42)\n",
        "test_texts, val_texts = train_test_split(test_val_texts, test_size=0.5, random_state=42)"
      ],
      "metadata": {
        "id": "bxYN2Sf7MeWr"
      },
      "execution_count": null,
      "outputs": []
    },
    {
      "cell_type": "code",
      "source": [
        "# Step 4: Train a unigram language model\n",
        "unigram_model = nltk.probability.SimpleGoodTuringProbDist(nltk.FreqDist(word for text in train_texts for word in text))"
      ],
      "metadata": {
        "id": "Kh4vLyUOMi0n"
      },
      "execution_count": null,
      "outputs": []
    },
    {
      "cell_type": "code",
      "source": [
        "# Step 5: Test the model\n",
        "test_perplexity = perplexity(unigram_model, test_texts)\n",
        "print(\"Test Perplexity:\", test_perplexity)\n",
        "\n",
        "# Step 6: Perform validation and print the result\n",
        "val_perplexity = perplexity(unigram_model, val_texts)\n",
        "print(\"Validation Perplexity:\", val_perplexity)"
      ],
      "metadata": {
        "colab": {
          "base_uri": "https://localhost:8080/"
        },
        "id": "eFLceN5dMnk9",
        "outputId": "6c17bdde-00c4-4976-ce45-8af5431a7768"
      },
      "execution_count": null,
      "outputs": [
        {
          "output_type": "stream",
          "name": "stdout",
          "text": [
            "Test Perplexity: 21.465569167644052\n",
            "Validation Perplexity: 18.946872098238607\n"
          ]
        }
      ]
    },
    {
      "cell_type": "markdown",
      "source": [
        "# ***C >>***"
      ],
      "metadata": {
        "id": "RHdNTB_PRHez"
      }
    },
    {
      "cell_type": "markdown",
      "source": [
        "**about the language model:**\n",
        "\n",
        "The Simple Good-Turing probability distribution model, implemented through NLTK, offers a sophisticated approach to estimating probabilities in a unigram language model. Leveraging the frequency distribution of words within a corpus, this model assigns probabilities to each word occurrence using the principles of the Good-Turing estimation method. By accounting for the unseen or infrequent words through statistical smoothing, it addresses the limitations of traditional maximum likelihood estimation, thus enhancing the model's accuracy and robustness in predicting word probabilities. This technique proves particularly beneficial for language modeling, where understanding the likelihood of individual word occurrences is paramount.\n",
        "so for conclusion the model that we provided above is unigram LM model with smoothing."
      ],
      "metadata": {
        "id": "rZcWTxpGRnfV"
      }
    },
    {
      "cell_type": "markdown",
      "source": [
        "**about perplexity** the measurement that we evaluate the performance of the model based of it:\n",
        "\n",
        "Perplexity is a metric used to evaluate the performance of language models,  such as n-gram models. It measures how well a probability distribution or language model predicts a sample.\n",
        "\n",
        "Perplexity is defined as:"
      ],
      "metadata": {
        "id": "ovgOrCnvScc4"
      }
    },
    {
      "cell_type": "markdown",
      "source": [
        "![1.png](data:image/png;base64,iVBORw0KGgoAAAANSUhEUgAAA1QAAADsCAYAAABzEOfYAAAAAXNSR0IArs4c6QAAAARnQU1BAACxjwv8YQUAAAAJcEhZcwAAEnQAABJ0Ad5mH3gAAABhaVRYdFNuaXBNZXRhZGF0YQAAAAAAeyJjbGlwUG9pbnRzIjpbeyJ4IjowLCJ5IjowfSx7IngiOjg1MiwieSI6MH0seyJ4Ijo4NTIsInkiOjIzNn0seyJ4IjowLCJ5IjoyMzZ9XX1eYoceAABXX0lEQVR4Xu3dD3Bb5Z0v/G/39l7coYmzw50qbzOgDCRxYIudZWvnhQVrIMGUaazcLHHKbrymGxO3JX9aSLzQGO9uMaYkJm2JQ7cxBIivu0utdLOWuWVRAolML7yW34XI3KZxMsm1sk3HYpp3rbxkIt6lo/d5zh/p6Ojo37Fsy/b3M3Ns6Ug6f59zzvM7z5/zmZgAIiIiIiIiytsfaP+JiIiIiIgoTwyoiIiIiIiIbGJARUREREREZBMDKiIiIiIiIpsYUBEREREREdnEgIpoMlzwo+vIiPaGiIhmo9DRTniGo9o7IpqrGFARFdoFDxof6cfiPynTRhAR0WzkvGMlRh9dg44hBlVEcxmfQ0VUSDKYcv8LvuI9iLobtHFERDR7Kef9bix/0YPmyhJtJBHNJQyoiArlSgAd7o04/a1jOLjeqY0kIqLZLvpeG+5tiOLpk+1wXauNJKI5gwEVUUFEEdi9BqtPfQMfHqoDw6k8nPehs19vb1aKlfUNqLpOe4sIAj3dGLykvRXKareh5kbtDRFRUYjC33orHg7vxS+73HBoY4lobmBARVQA0Q86sMblxdpfvoNt5dpIys2nUUSujOBnj6xHR38Yzu+/g2NbKrQPxbaNRBDq34It5zbghW+64LyuFCWf1T4kIioWFz2ov3kXFv7s/8Zz95dqI4loLmCnFEQTFkLv020I1DejgcFU/j5bgtJrxhEu34u99UDgR174De27S0plALUQDX/pRpmDwRQRFalFdWhuW4iu9i4E2EcF0ZzCgIpogqLHu9B21IHmB2tQLPcko+EwZtT1/MMAUFWDmgeb4Qh3wHM0on0gRTDyrw4sZzU/IipyFbWbUTPchn2vh7UxRDQXMKAimpAQevd3Ily+He7q6e3dSakaN+yDZ3c9Kpd2Y1gbPxOEfjWO5ctKUFLtxvZyoPvVPrFldSMYLKkCC/+IqOjduBYN9YD3R70IaqOIaPZjQEU0EcNevHgUqPjzaiRa/UyHCIb7f4ZAeAG+sECGeTNJGIFzZahaJF9XwP3NGuDoi/DqEeHwICIVy8HOiImo+JXCdX+DOG/tg3eA9f6I5goGVEQTEHxH3oWswIa7pjeckhfxqvom1N1bheXxHvLsisD7yHzMn1/A4c7O9Hdro6dx+vPL4z0jOkVmpEF8e98Rv1JtMXQqhPLb2GfWhEUC6HhgK7wXtfdTJezF1ke8ImwmmmEuirT7kDh3XdHe56j0NhfcIsV3HB2cWVWvici2gvfyF/7Aj9P/r/YmrQVYXFEGZ2nx3nOOXgxi8FwIoQ9CInvJrprJShCdd96FluFmHLvciipt7HQLH67H0k0VYpmabS+T2mthGwLiddXfvoPXd1TkVkKk9NgXwdiZQQx6+9D5mgcjSk66Au3pekAc6kDbx9vQerc+hyj837sVtXvvQ8//bkfJs11Y0GF/XdK6NAL/r0L46NcjGBO5ntI7RCBXWTSt4BAaGsToVe1tOp9biOW3lMGR7bk3yjPSdgHPvj71Dx6VPZ+JWe89VMeupGnGiYrz05ongGe84hyU8/OlQuheeyu2Ht+G/o/a4WLxOtGsV/CAyvfdWnSeAq6G/Aicl2McKKtejoX/SflY9fsxnB4YQcm92/A3329F3bLiO9uE32jBwy/4lOWU+cHWty6LjIj62aS75EfLBrEdL9Rg//84jIZl2ngqLue7UbtiK/wP9uBsET13pBABlRR6rR63NnnFqyqR/m1mxD8Nw//8Fjz8PR/QcgxnH09dotCrLQjc2446pcqfRmzb9WLbouM5lP2mDK1trsJX+fugC7V/14vR4wGliqT75bPoWV8sezEEzyNb0X0RGDvlV4PSG6vgcn5O/VijnmcdcG15Bs89WYcyywxfBL7Hvow9Nx1O6o5+yjCgohku+MJqrA9uz+v5UsG9S3HX92Te4ezU5R2IaPrIgGpSBPbE5s2bJ4anYoPaqCSh3timJfLzVbE9gavayGJzNXbiSbmM88QyaqOmQnzbzYtt9IxpI43GYm8+sSv2ptVHNGXGf7FD2Ud37j+pjSkOY56NYrn2WB93eRmN9W5eoqbFJbtiJz7WRtsw6tkUW7LkqdiJlEN9LNb76L5Y6hYcj/V9Sz0GNv3T5Cb00VfWZDjWptto7JBb3Q47fjGujTMaj53c/4Dy+ZLNfWJrprr69i6x7Se2/ybkN72xjQ29lstGNCN8fCK2a8mSNMegNf36sOaVUW0MEc1mU9CGKs195Rvq8Mz33eJFAG1/0ZH03JniUYLPfV57OZUqN+Dwt91w1T+H5vut7odFEbkQQuRT7S1Ni5HhLuX/yhsXK/9nHyfqvv8CmmQSDHfi4Uc9tju7cK5/AT/9ug/9x43doQvhQfhLyy069ChVu1CHC66KyS3XKPl8ET+AMzKC4ePyhQvlZVbLWYqK2q9BnknDr3WgN6VrR7UXyoVbN8CVc3UlIkpyrQsbti5E13PdOffcV7rIqZzX/O8G2X6QaA6Y1k4pHE4tGxXugO89Nt1McKKmrQf9P25ChVUmSGSyBvu11zRNwgidkv8r4Fw0i5+If10Nnu5uVjIG4dd24anDdkOqElR9/Wksi46pjbSjAXSsrUXlnfXo3rsVq9e2wHdJ+WKc0oV6ZTUq5nLbxVODUML28pr022F8TAt0g4h+orxIGOpF21EXNtdOQ1U/olmk4u4NqBjKo+c+hxNKbf3jIxhTRhDRbFY0vfyFLpnuXFNaoSNdaiaLplEIo0fkfycWTrhXveJWcnsz9rbItk9heDY1otPuA64WudC0rkwtsy6pQnNfP4bOXsblyx/iWF87alK2YwW2vaUGc3NV8H2f+uLucpSpr1KEzwxqd83dWPxF5UVc4O0uhDMFY0SUm/KVcDvC6H4vxxOgYyGWy//h0wixiIpo1pvWgCryO/0sU4GVyyyq9YQD8Bxowda1tdja2gXPUPJZKXLGD/+AH77DXeh83ieyuFGEBjzoet7w3WgYQfEd/4AX3c93ovMNeS83irB8AOoB8f75bniHw+pd87xFEDrajbbH6lH70E609YhlMMaFshcxMe/AmTAikYgYQmJZRpReA6MXRzASluO0ITwigsrEb/xH5Xp0onvIMMErYl0O70TjdpnJiuB0QF1/OYxod/ejF0NiGQzTjYQxckpfvwhGxHeDF9T5BQaCCLNg0J7wGE4rL8rgNHamMCuVoOrxvWhXGlYH0PJoBwJ5diM8o4lj0tfThp0P1aL+sTZ0HQ4gnKG6rTwvqecWcR6Sx7v4bnigS/l97UMt8OXcbXkYZwJqqNR0xwo1EE0RxkC/7DhE5N++vRm1SWkxiMF+cR7MEIxJkfM+5dzYfVTt0TSZPFeK84RhfSPvdaOzJ2Dx3fxN57wpFfdHJmWoqBVHXL9+AyMbBxx3y/8fYXwunS+J5iqtLVXhxTtWSNc4PtHofMmTJ2Lmtuqj/7Ql9qV5q2I7PCdjY+PjsVH/ntgDS+bFvvStvpjexPPkT9bE1tzzJW0+u2J7nlsTe+C5vtgBZbpLYjt847HY2JuxXe41sS8rHWCIoWFHbNefPRDb8pO+2An/iVjfjzaK+Yhl+KpYTov2poPPqr9L6ZTi48HYnq8uiS3ZsCd2IjQeGx87GevduSo2b8maRCcb7x+IrRHzTiyjWP57DigN8Md+IddPW6Z5X4qtEt878L7+m1Xxz4wN5ZX1ja/LktiXv6q+l4PyW2HsF7uSfj+vYlVszRNvag3CT8YOxJdF/r4IO7YYG4z1/mRXbItYpy1PHoj1BowLeDU29v4Jsd9OxkZFmhgXw9jIYOzkb+T2Ho+dDo4q4/Rh9NyYkq7GR+RvTsTe9ByI7fvRIXU//+50bNB7SLzfFzvgORE7/Ts5/TzIhvbKdixE5w+FYZ0+CriP4x3JzIvd+fRgyjE7U6mdeFh3SjHq3RFbteSB2B7faeU8ND52Otb39JrYknt2xN4MaV+KG429Kc8BFVtiB3yDscHAm7FDyjlhSeyBp0/Ext7doxyXOXeyMf5mbIeSxtbEDp3TxpkonX2I7yzZsC920tzpxFhfbJP4LFOj+KviPP3Atw7E3vQfiG0R311l6mBl3LtF2TZP+bUR2jRl+tqjnXOyStMpxZTMm3LG/ZHdyf13ivXdFOvL6RAei/U2qOfLKe3UioimxZT08vemIZM7Pj4WOx2QQY/IaIgTsczsmy/3V999Knan+O0DpoyAekI397QzGuv9C/WkpQZm4yJTI3sm0wIqnZimsjz3PBU7Yco865mSeX92KGVZrAMqMU95okzpOetkbN+fynmYey3Te0u7M/bUu3o2VF3uVX8ngp3/0EYZjP5jukyefpLeGOv9jTbKwuh/V3v+Ss1MDcaeyqdnRZGpe0oL2mwNYv0s4lRL2YNo2buhOt14gLzkyyI9yG0ktv1KrUc6MSxZKb6nBZLJgfea2I4nNsZWNeyJ9fpEoOU7FNslAmMZ1G7xmLdVBnr6/lOrHupmr/ixIo6vye59b6qkC6hkL11LxHruett8rMjeP0WaMR3/+jGX9P2rJ2K75PZSzi1XY6OB0zkfDzKNKdv6T/bETiSdQ8WxERTn0G0isBPp9oFnrc8hsffV36ftvVD2XPZVLf3qwVtS4CPOpY/KfS3ONfHgMdHzY86ZRKuAaqrmTbnh/siJeq64M7YvqI3IKBFQpZ5DiGi2mYKAKrkkRRm+tSu27ye9sRPnrLIWp2MH7jGfuDX6HbFHjZn0xEnrqXe1Uf8hwqpx0wlMX55nrcoTxDy1rom3eJOXySqgGvfJjJYY/3TqtE4+Jy8wFidcpdtV8ZslO2JvioBO3g1cs7lXCxRSpb9rnltAFS9BMWf4zx2KPSAClJwzdcJVU2YuryHH60h+QbS6/VbJ9RMX/fgvZNC8ZFPs0K+s1k4NYJVA4JXTyaUrsrRRSXNWmec09PRkzijOelowIdddbOuUY3QGsjzWRCD0lBK0p3nsg3aD5s4f6UeXnr7MpUkibcltle14taDeDRe/laXMxvOndg7NWrKqpdF0mV253vo6y67VlfUxlkrowaD5HKKcWyzOcfK8a9U1u0VANWXztm08NpZvqfUMVvz7YzJdjY2N5Xbe17dNrgHk4NPy2M9wU4OIZo0paEO1En99oB/9fYbhx+3Y9o06uG606B3twjAGhuSLBfj30UQbIWUYGYPyWMvACEbl/yRuLL9Be/nZEpSW5vMY0DKsrFGbvncHTmZtTzUS6FK6Qa36NJS8fGIIRWUz1CBCF021yq91ofUfWlEV7sKWR+pR/0QUrT+sg1P7uOAW1WBDvfg/nNwrUbD/RZTV1SCffulKSkvF9rQ55LQbRtD9ZIfYam587Z7kLVJaVYM6sbW7jg4m1dMvqWzGwX01wJFGNL4ga7SH4HklILbxC2i4xWrtxIJ8Vv5fia/cq3WMoLu2CtueaBIvwuhsfTHH+vF50tvG5T2obe6KRwlcT/wUrbI9VdiDxke7tR7mZpkPA+iWB/m65dbHqDjHSMH9Pi296OlrHJGPlRETlGg/5X7iYPL5UzuHNq13oWwCHaKUVjWjXXksQwQD/Z3ifw0232/oAuSMOBfL//evTO4YROkOuhrlSQ8cj8D33VtxfUNu6WE6553Wp1G1bWl/F7au+TJ2HE9uszubFeX+mFRiX8s2zUc96HioEktfza2jiZLPL9Be5Ug5JxDRXFA0vfzFhUehNrG2Uoa610Vm4ofujI2s7Vjo0LJNFz4Sl4NMwgidUV997rPXqC8MSu/aiX6xjJurUjP1MgjY+/0qhN/wYnzDBlRN6nNh9Of4hNHxzwPqOkX98L5Sg5rbc4pypo7NINr59b04+KADge/uQP1Djei7Zz+aK+2tW4kI3GRIhWGRQT6vjCpq8+fPn9AwITIAfbYVst8/x3XK3pl1wqEsz4754mLl2U8IB3FG6WTCgepaOSaIEWPPNFfG1emsW4vqfDoviQQxqPQiWYGVt9i87SIChExKbqiAU56DIoPwvST+3+uGy9AbYOiU2vi+6TbT2faiyIg+7MKKpEOtFCv/7Bn0fH9DTjeJpnPeaV0YQPfREVx1/iEcA3MnmJKKcn9MxAed6PxAe20lMoy+1wIIL/gCSj+dlbeEiGiKFV9AdU2JdgfMiRXVLrishkpnmh6vpkIJSrW7wqVlK62XTwzWd46j+ES7ex1o3oKODwrUxZ7syfCD1J4Klef4lIsXL3nhvySuIcf74fsrcaHMc+NFk3oNzHPIZRVtB9H6g2cD8B5ZgYb7J3D5Ll0gssSSH2HT85AK4royy3SSfSizLE28fFl2N25/KIjKVvx0MktZp9N/Sr1ZkuT32n8sRKn28G/H/Q1KUN7dugWd/fKGgBcdm7agq7IJh9vqtPSVI/35Uw43Vspj2A6tFC2byLs+ZV6uWpdhX0YwEpBHpZj/HyWnwMjwIHBHRUq6LL29Du5l+Z1cpnPeKW6swbZ6cX4sn87ry/Qqqv0xEZ9GEc3QEydKq9DwjTrUVC7HH+ZRihT9eFx7laNMy0BEs0rxBVTLylGj5DyCCF1QxqSIXilQIBIXxemgmqWvqFqWJeNTirLbapRX3pE0d7bSnMwjbzyJxnPfwIf/6yDqRBDQtrOzMN1PXxpAx4+0UqgkFXB/Uy5rN7rfCMDfP5r/Az4jPnQ01KPe7rDbZ7FcJhMJoq9E8O/Kiy5safZmLlWYDOfG5t5DGy94sGXzaXzjleaClbJGc4q8cxWZcFDsuGmFmiaPjFpXW9JvAtxbjjItNxkZ8GFk3xA++h/NKPtkBMMfjKNs5+v4tzefQ41eHTlH8edPiePVdmm8yCjKc1kwy0NwRk/1Kf+r/8gYGo8iqDw8vALOpGWPiPPIGNbebjhLXgnBf9gD3/msR3qK6Zw3pSqq/SGn1e+FX59WOAjf4W54jiZ33T6VIpfk2aACJVnut6gStVkWXjtXQ3SiuaP4AqoSF9zfkZWJvOgLWGQELnmxs6HXft1sqxPxlUH4XpMvTPXG03De34QmeQ15w4+ART4w+MIadLxr+kBkQh/77jXYL+/o31CHH+xrgmOoDRtbcwg4cnGN9RneeYdbrBXg+95G7AgnV+PISWkNWs3tN/IZ/jaH9lq2g+ggOv/qAJb/w1kca6lC+LUd2HXYZso4f1ptI4AmVCS1B0hDr/I1HMUnyohpdN6HTvmMNWXoRiApmIgg0KN/pg6+iVRpvBJAh9zmL76AujyDhHQiR3fi1uvr0T2R5Sp0+5fyDWh+UCbKQZy2WK7Qr2RqcaDp4bXxO/nRK2M4LQJsLKpAzfombPt2A9yVZSjNux1FCEGf1n7K4u5/zr5YhmrxL/Jx5mD1k0+tttUnsuAbuNuRfIPpfB96SxpQo1dfjIpj8Gk/Ftx2DXwrtsCT8zO2VNM5b/tC8D62GqtX7YQ3zfkq7oIPLQ+sxnpxns92Zgq90YL1a2qx80i2b0YReH49atdsRZc4/2Smfnf1qvXoHMr23WLaHxH4nusFyj6BZ0Uj2p7vQMc7IpS59z58IbAVd7b7U2pkTIWxsNw3K1FmjDdz4Pivto9iIpohCh5Q6dXDwmP6iTmCf/9Iq/6VY2lMxZaDStsY73d3ofuUMdwIwfPdF+F8UqubfUVOdwz/rpTCG+aT6Uy7exc63jNN89GH0Rl2oO7lvWjQA46onFYYY79T38r1kdNWJn1dDZ6WHUwMt2HXbl/S3bLoUAee/NV2NFWXqJk8+WDdo52odzfCc+9KrNDintLqzWhdL6b70hY89moQYX37KL+JYOyStowfjyfmq3BgWZUM+rzwv69+J3pqENHqiuSLne7GtWiQnVOEw7jv64nMX1GxFUSLjMLuHfD/5UE0Vzq0B8+G4dnUiM5s7Yvj1bUSQgNie4r/jh21qM7l2vfZa6Duyum4rJvcUI2Gr1fjmsA+7Gvdil2vqZlxVSnKa0Wm57pB9I07UfNgA6ptB0LyWGnE6W/JbV64O66lt23AMz9tx4Z8g30jO+1fTMda5NKYeqwpx7MD7ifl+cCHtmc9CBlvxFzw4CmRoatq+Smevj+RWEq/UAY8/zDuEpni2rX6sBUtIojtkg8DzpZUtOWJDL8J73F1VFlpiWGZ8uRwYkU54D83mjGVlt3WpJw7gucSR1jotX3okC+OBxCMB+hi/z8XwNrvJG6SRI56cc1fNaDi45AIPRPVH3M1nfO27YNe7HgpgMBQF3a8kjljH/RsQefRAHzP74A3U5sehBF4rRO+AT+6HupFQBtr6WK/OM598A90Y+cbWU52YR8OiO8GhkRg92z2G5FFsz8uivVzboDrWtnNSxCjizageb24xpU6sFxEM+Hz2do6TwaRrzknzq3yQdm5XCNEyriq5E1yLdEiopnsM7KrP+11QXgemo9GpTG1hZZjuPy4zDjn4NMw/C/sws79HkRvcGGxODlf/fga3PekyMzdrZ7NArvnY3W78jKJ++Wz6FlvCi9EoDN/VRvweA+Ofb4PbcGFkB37nfzHXgygGtt/+ANsuz1xlgwfrsfSTWo1wAQ3Dv66B3XaHbnIKQ/2tD4lMvAlcN2yUGTUr+LqjQ144fsNKJNVofR5GrS+dVlkRtMsu9w+9/hTfmOeL64E0fVIPXa+q8736oIa7P3xNlSkqX4VHWjDrY3ASx+25t1+auqIC3TTajQer8b+vh8YeuqT47di9FseNP9xiRKwfxIZQd/ft6HtBaD5lx40lcuVEpnRgU6sXtOGkcpmHH5lO1aKSVxTWqpVFRTB1kNLlbTpePAgjv24Dk6t5EAGwWvENg9UtuKYN9dqbAF0zF+NNvO+mS5RP9qej6AiVI/6o83oN+3r0Gs74a96LnHDIG8ygF2DXXgGr4tj2F4ykgGDCDzy6oEzX+p+CVqdA8wsjk9JP0YVIq15nmvBU/3jWOyUHXBcxWhogQi22vHX603t2yJi3htEmnhPe2/mqEH7z3uwTUmvZmF4m5aiXikpT1V36CwOrsuyPimi8H/vVtQe3Y53finOD9rYVBEEnt+CxtYgyh7egIpPRbBwzTbs3wZxntmC3t9VY8OfL8SYN4QVP3wpefllyfG1JQg+fxfuCrXi335gUSJ90YP6XcDeQ1btyCZn3pGhbnS/m0OWe1E1NouMevIeyZKGouL8+w15/o3Ccccz+KXleqmiw114uGEnghX7cfiQuC5o462EjmzFmofexOK2w/B827xMRiKtPLJaHOeL0foP4ryY8eZGGL7vPowtL5wW6a8JPz0rzm/aJ9aKZH98GhWpV0z7nRZ8oWkBjsWXW6Tp1i+gFv34qM2lbKPQG53walXr4kJ++OGCy3QH8Zo/3oCmauPe0q4Lt+SSNxHpYulqeLe+g3fE/slOv0bUoefsQbjzPXyJaGZROk8vZsozpdRnGuX4hCBr+nOD9OdQXdWflTShqSriz2ma4uduqPPNvvxX/U/FVsWfl1PE/mMsduJHm5SH9n7pHvV5O6vueSC25239uVKJZ47FB/35Nvpzt5IG47N/Es/vOuDrje3a8EBsx9P7Yk89+kDsS/LhqE/2xk7ntf/06S2J7XlfGzWdRPp+6u2ryr6Wz0hLfp6afNj1HuvnKeVIPtD3Sxmem5YL+aDc5OeMXY2N+ntjvb7RvJ6Llpn63KeCP/clfh5Kc7xpzzJb9eyJ2Lj5Ibvit6OBA7FN8rlWFg8Pn0xqejA/GyuNNOdE/fx21erhwQqx7mLd0j7DzeI5VCkma9625JqGBmNPzZjn0MnnpOVxDiiS/TH47BLTcydznL44H+b2rCjtPG75fEqT4L7YnTk/1FfQr0lL9iQ/u4uIZqXia0NlpjxTSn2mUab7cHkr0Z+VNPGpxp/TVKAG+rlS52te/ghCQwEkem6OwPdaEA35dkYxHT7rgOvbBzH064/wy3/qQU93D15/63C8RFJWw6o7ZOqxTr87vKgOPcbxymBdcvSHt9Sh/WeH8fTWBmz/24P45UcfKr2wKaWKOXNgWbmccxjhsamvfGIW+tU4li8riffs2P1qn6F6zwgGS6pgt7M4WYLX+PfLcXAiPfpdCaDruRG4q/UpRBF8vg3+BVW45o1bseVwoppePr1KZqpuVVDx85D1+SIy0Iu2ITe+Ue9KbTMlfuusbMLftLmBo34Ec6yRWAhqevDjxX5jNdA00pwT9fNbSZq2YNGBN9GFZuVxDOEBL4J2OtqZznnbNTyIYNZOjIpERJwDHHl0cFIU+yOE0++Gk9oRGqcfGfIhMIWn3uDxXgTv3Qx3rifSS2PqOfjuMixURhDRbFb8ARXlJXzkMdy6ajVu/Z7W2cX5PnSjAWsn0j5lqk1WEG0SD4RtzmTxLWuV/4PnUx8zPbXCCJwrQ5USPGo9Ox59EV69eYXI+EUqltvblrJHv20hbJ9Ij36RIDo3bUTb5+XDvLVxl3zwXtuAhvJxhALGXrAiCAVP4mROwwjCU5mBzqD0v8oG+yIDeCFdiBdF+JzIXpWvgHNKc+AVaGhpwtj+XvgnaVsNv9cBPHwfXCUhvDlUgsVTeGNp+uYdhd/jg+uuGXCjSggd6QbuXZlaHbPACro/wkH4j1dg5bLEATMy1I3wg9VYKabf1zsGx2SvkO6KH737x7Bta+7P1gqfO6k8u8slAsIZEXQT0YTM/oBKPqNpwAePd1B97+tGV78fwYtTdm97SpV8/g/FyduBmtucuCbsQ9t2P772hHvSL6RzUWlZOVzifzAYEiHNNIqexunPL49f6J33i0BFXMr3HVEbzIdOhVB+m41LuuzR75F/wVd698NtpyMLcewFelpQ++W70PJGGK51hmfblNag+etlIgc2gN7hJtTcoafQUpRZdZtvOVSpDyMtBpXbcPj7DnQ31KPj6EhSxzjRS0F4vluHja8uQOsPN2doyzQ5Su9vxt67e9H2ag6lVDY4l9XB+fFpdLd2YUGdRRuqSVTQeYvzZYvsSGRVI2TLOu/TG9WORQ6kbrfI8Q50lrRis91i3ykUPdONp95di22GDlQmS0H3x4UReMo3oNqwjRfeWA1HZBi93+vGgm0NE+hkKYguuW/XrMEu2eb7pS3qvv6uz/JcHny1Db0PvoTWu3O/LRU6o/YEmtwFPRHNVgXvlKLoRALofnVQLa0xKL1DZDorp/LSP1UiCB5owZO/CCkNfLc90Zz3M3Bmm8gZP06ODKN7dws8wyLY3PEMmu4ux8o0D83NXRCdd4pgYXgb+j9qn74OP4Y60PbxNsPFXuuMYO996Pnf7Sh5VmRuOrI1RjdTOwnZ88kGNNyxAmU3f0Hr1dDKJ/jo1yMY04KI8dAgAsEg/EOJSocQoef+k/0pnWIEdi/F6o9fijcwn7gsHQpMsujFAPoP96Lv7ZMIHg8gdGMVXBUrUFO7ARvWVMExXWlEBsfuXcCzrxe0h0adrKaJa9NUBcvYKcXEZZz3pIgidHwQuMsV79immMmqcaPLalAxRZe7wu2PKKLREpSYk+uVCKLXZJm+OCd2oDnRucwEKJ0WPQE8k3OHRVII3Wtvxdbj03xtIKIpM/sDKprzLHuBQhnc366ZwB1OVfCFu3DXd8fQ+tbZgly87Qi92oLAve3J7cXOd2P9iq1Ax3Mo+00ZWvMKWKII7l2Du76XsfPm/Ny9Hx/2me4oy54Jb30YOPghWm8ahPejlXD/sciIbNoJT04P5nWioXO/6XlY0xtQFTXZC+GmbpTt2w/3VPZKGfZi6/eA1h+7WfWJpsalEEIlzomXYF8UaXdXCJsz9KJrSd5EuLkR3m8neiMkotmNARXRRGiBS7gt1650Cy0Mz2O9WPYDc7fYEXgfuR71PXa73J4Cstvyv4DSJbKjpwMj9zej5jrtM9sYUBHR9FIfuzKI5tc/RKt8JiURzXrslIJoIrQHJwf3+0RWfhqEB+EvLbdol1OKmgdFoCKfxVJRpIHFF8tQd8M4Tve0oOvaDRMLpvJo/0JENHnCGOj3AuXb4WYwRTRnsISKaIKUByev6UbDVN6NjAbQ8bU29J7yYyTsRNXdbvz1y+2moCSIzlU+VL/VPOUdIeQsGkHk96VT/sgBIqJJoVe3/vGHOFzPDimI5goGVEQTpj1tHwdxdpIa3hMRUbHTOgQ62oRjx5pRxQIqojmDVf6IJsyBuh3tqDqyD91Ds7M7fiIiyuJ8Lzr3Ak0tTQymiOYYllARFYTWM967Dfjw5xN5PgoREc08Efge+zK2fLwXv+xij5ZEcw0DKqKCCaH7gVvhrf0Qh7/OkIqIaK6IHm/BrU3ASyfb4WKbUKI5h1X+iArGiYYfHkRpeyM6WPWPiGhuuODBlkdHsP3nrQymiOYollARFZq4uDa6/wVf8R40PXSWiIhmlStqj6v4Ww+aK9lwimiuYkBFNBku+NH1rwvRtK5MG0FERLNN6GgXgs4GuJcxmCKayxhQERERERER2cQ2VERERERERDYxoCIiIiIiIrKJARUREREREZFNDKiIiIiIiIhsYkBFRERERERkEwMqIiIiIiIimxhQERERERER2cSAioiIiIiIyCYGVERERERERDYxoCIiIiIiIrKJARUREREREZFNDKiIiIiIiIhsYkBFRERERERkEwMqIiIiIiIimxhQERERERER2cSAioiIiIiIyCYGVERERERERDYxoCIiIiIiIrKJARUREREREZFNDKiIiIiIiIhsYkBFRERERERkEwMqIiIiIiIimxhQERERERER2cSAioiIiIiIyCYGVERERERERDYxoCIiIiIiIrKJARUREREREZFNDKiIiIiIiIhsYkBFRERERERkEwMqIiIiIiIimxhQERERERER2cSAioiIiIiIyCYGVERERERERDYxoCIiIiIiIrKJARUREREREZFNBQ+o6ufPx/z5HQho75Nc9Kif77b8FOHD9eK381F/OKy8D+yW06qH56LyloiIiIiIqKgUPKBau07+DSJkEQSF3+uDV75o91sGXKFz8lM31t7uUEcQEc1R0TfeUAYiIiIqbgUPqKpr3eKvF33vqaVMCWEM9CvhlNAG/5D2Mi4Af7v4t24tqhepY4iI5qL/Z+NG/Pvmzcpw6WtfA37/e+0TIiIiKjYFD6gct6+FElL1D4gQyiiE0SOAu6VV+TwYMgVcQ34RZonPa6vB8ikimquiR4/iE79fewf8f//zfyrjiIiIqDgVvlOKRU5UyP9HRkUIZaAFTBX3NCjVAs0BVzgUVP5XOK3DKbU9VWLoSCnh0gx1JH3Pqg2W3lZLTkN/bW73ZZ7f/Ic8pgCRiGgSxGLaCwOrcURERFQUCh9QoQquFvk/uVpf4G0ZTrXCVemA8xbx8kgfBuKBjl4dUH6ujknwovHm+VgtqwMatK1KDaqUIGiVnI+R+nu9owuj4P56LN2kV0PUBdAhAijz/HCkEUuNwZnewQY7zSCiAipZvRr/ZeVK7R3wX778ZVwjxhEREVFxmoSASoRU97Qq/9ve1st8wgidEv9aXCLc0j/3YvS38jPh4gD6joj/2uep3Dj468u4fFkdjikBm3H6wlCHEgS5Xz4b/57x+95N3SkdYXiPeNH6lv69ZmXegd2rRSiYPD91OCbCPRGc9Vh1p0FEVCB/8Ae47uc/x4LOTmW47p//GZ/5z/9Z+5CIiIiKzaQEVKh0ieBDOBVSq8lpAZP7Jqd8F/88HhD9dlSEKobPTVrf6kGdoaOKqvqDSjus+PQFtQRMBk5Lk6vqxUubUjvCkMFXc1KJmNYxhlaqlTwdGWgJeg+Fi+rQowRayctGRFQIn1u3ThmIiIiouE1OQAUnFst8gFatT+0u3dgduva5FpyowVC67tLdWPxF7aVOb6cVp5WA5SmlvdbFENSWXERERERERNlNUkDlSOo+XXm+VFJ36Prn8nlVheguXe1BEOsO4mxSNb3kIbk0yoJeUmZRbTAxqFUDiYiIiIiIJimgMnSffq5bDZhucSZ1h65+LgKuHr9aKmT6PD9aRxhJHV0YXAzHqwZmpFVFTO3yXRUW0yEiIiIiItJNWkAVr5bX3qa0PWq9x1Suo33uFZ8r/fuZP8+T3tFF483mXvcC6Lh5KZbOz9DVepwemDViqbmb9KEOLBXTMXevTkREREREc9fkBVR6cKKw6g492+d5qmzWev8zdyihdiaR2gGFtarHZW9+gtJNumE6Snfssvc/rcofu00nIiIiIprzJjGg0kuNhHWLYdV/X7bP81X1+GVcfkubZpzaBXrP+lwrFFah+XKia/Y4pX0We/QjIiIiIqKEz8QE7TURERERERHlYVJLqIiIiIiIiGYzBlREREREREQ2MaAiIiIiIiKyiQEVERERERGRTQyoiIiIiIiIbGJARUREREREZBMDKiIiIiIiIpsYUBEREREREdnEgIqIiIiIiMgmBlREREREREQ2MaAiIiIiIiKyiQEVERERERGRTQyoiIiIiIiIbGJARUREREREZBMDKiIiIiIiIpsYUBEREREREdnEgIqIiIiIiMgmBlREREREREQ2MaAiIiIiIiKyiQEVERERERGRTQyoiIiIiIiIbGJARUREREREZBMDKiIiIiIiIpsYUBEREREREdnEgIqIiIiIiMgmBlREREREREQ2MaAiIiIiIiKyiQEVERERERGRTQyoiIiIiIiIbGJARUREREREZBMDKiIiIiIiIpsYUBEREREREdnEgIqIiIiIiMgmBlREREREREQ2MaAiIiIiIiKyiQEVERERERGRTQyoiIiIiIiIbGJARUREREREZBMDKiIiIiIiIpsYUBEREREREdnEgIqIiIiIiMgmBlREREREREQ2fSYmaK+n3pUQAv86iqvaW8XCFXAtK9XeJETO+HFyTHsT9zks/pMqOK/V3hIREREREU2h6Q2oTnWj/rseRH4/htMDIwjLceXteOeX21ChfEEXRfDAw3iyfyT+PcctLiwvq8bOHzTDdZ36LSIiIiIioqk0vQGV7nw3av+sA6PnQwjBgebXP0RrdYn2YbJA+3zscQzh8MNl2hgiIiIiIqLpkWcbqgA65s/HfG3oGNJGT1D4fR/wnR7s/7ZDvkPHaz5E1I9MRMB1ygX3PTkEU0Md6nLuDmgjJkCbVv1hpQwtSWC33Bb18FzURkyWDMuQH20fPuRRSwRtKcQ0pttMXocwPA/JdCeHDrEmM0/4cL2y/BM/h+jbooDHYDEc70RERDRj5BFQyYzLarRp76S2VYXIWERxOjiI6ooKuOq2q1X9errRd175MFlkBIOBaiy/UXtPNOfI43ApGo9ob4mIiIhoWuURUIUwmpKJ82L0t9pL24YReG0Dqm4WL8vd2HyvHOfDi/1B+SLZmSD6HqxCufY2o8pmXL58GZcfr9JGEM0CFwfQJ4/DdQdxVqbvy82Y2yncgbpDcjv0oG6RNoqIiIhoCuURUDmxeJ32Ms6NxV/UXtp1/jQGal1YoTSZcmLt1xuU0cH9Xvijysu40K8GsLJiOaxbVxHNIbc4RShBRERERNMtj4BK3gk+hlbtndT61sTvCivtp8rLoHeUXnpvHZqVplQd8Bw1tqQKI3AcqLktx2zkRQ/qZRsTUxsqve1GYshUbVFrn7FKrejo3bRU+411uxW1fUViSNc+xPy9zO14cl0GvS2JYTBNV113rdrmkUYs1b6XtJz6djMM9tptGdsoJbe9S7/sFtvVYj8a298kb8vEvjTv58zrYF6+DGlCb5uX6bvGZTZsz8zthbLtP+3zmxvhlW/bV2vfs9hm+jKa01WaYyL+feP4HNOBcV8ktrlxmVLXK9N2SDk2rNbPJLVdUz5pz0hb1mk93pPl/Nsc95dxW8WnrU8zTbpVh9RtYJxWMuP2N8hxGYmIiGaaPDulqEKzUs1IHZortdG2yfZTIREkObX3QokL7q1qp+ndr/YhpLwSIkEMvluNigm0n5IZgKWblOyogReNN0/0wq5OY3W79lbTtsqcyVIzGubvqcFNhkx8NkpGxaJdTb7TlRlrPcNuoGQszZnwXCnLkNz2TmwZrM4ho5yN3L7J21Luh3rUi0yxeT/LdbDcx5bLZ50mlAykltlOyJB+Tu1DvcX2TFGo/aerbMBBWZp8ZDRx/Ajh9/rUZTkVSsroBt6W6+TGwXq18qASGKVLB2ky9MH99RbHlkzvqesl91vqd9VgJuXYUNJKtmA0jUlLe1NxvOf+Wzv7q2+X1bbWyGA9ZXoT2A9SpnNLuiCRiIhoppDdpk+fwdieJbtiJ65qb3XnDsUemDcvNm/enbF9QW1cYE9syZMnYuavpvWb3thGOY1nB7URYl7KNPeIV0Zjsd6GjbE9nkHxKg0x73nitxs9qd8YfFZOUw4bY72/0UYK8fHx+evjkr+n0pbN8N0UaZdBLn/qvKT4MjT0GtZNm1fSOCnN9tG3Y07TMNKnl+a3YtgT0EaJT9V1MO8bIWU/im97NqrTtZyGNlh9P81ypKyHtq2T9lXWNGBYdn2Z5ZBpnyry3H8W28OKvs7W28eYBrXx+jwMy574rZTYXsZtYL0vVNbpL81vLNOZJOe7R3wv/fqmHlf5pD0LRXC8Z912+m/z3F/pll+RId0m9lkinWddP8Oy6/M1b3c53Y3P9sYGU6ZBREQ0c+RZQlVgsv3U3Sux3Nwo6sa1aKiXL4LY5/FDNqUKBryovq0A7afWLYahPEyQVRl70Ly+akJtUszVH6vqD8ItX8RLAwLwK3eE1bvbxmov8Wp47f7875wbOykwdcBR9fhZraSiDwNZSzn00kdTJweLqrHWorQjd604dqjOsG2r0PCysmUQDE3svrT75bOGUlKxH5/RtrlpWzjW77UssVGZl0+obMZZZRm96HtP23tKKY52Rz1p3+l3+tvgN9+9t9gnKQq2/5I5bl+rbIu2t/UUpXYq0/qWrLabWC99/u7aamUb6KVYydtWEunj1+r29fYPpJQopH5fT++p29exvgfHWrQ3Ziltw2S6bBbTzrIdLU1e2pvc4137rUwTKdtOpOUWMb7eqczH7v7KWF3bIi0m9plFOs9ZaptbOd2ex+tQxQ5FiIhoBpvWgEppP3VHhSkDJZWi5sFmZXz4+U70ng/jTGABXBWp38ydyGC81apVmdEzNhOvdqay6JxjkVPtAl53MSTCw0nw21E1Q6VliJM5UF2rZKny7o0x3r7CqipaPlICWLFUzqQtY1uFM016yKfDBovlk/SAxHtOhmBhhE4po/OTy3JM0v6LB8J6pn3IL7LCMp1WwSUyxnomW82Qu7H2dnXuoXPK0sTfJ9GnaRGYpuwLPb23uMSRl6rqHnEsGi2qw14Z7MTbholholXBJi3tTfLxrv/WMv04UCcCEMcih/KZvf2VpTOhNOlW32d2gtGqx9VA3hhc2q4+SEREVGSmMaDSnz9llZ0FSqrd2K70j+7Diy/ug3+C7acUelfqcpDBlchiynYBU3Jx1zPOL59NLEPKMM1dYBs6XFBLXUilPTJA3rm33G/qMPE2hYWkB2NBhC5qJWzr1qJ6EeC8SYxXMtlhDPSLVKmNn26ytELflkoJYfzmxwTaF06XiRzv2m9nF70EXA5q50ayzZlyvrHbPpOIiKhITGNAZXj+lKUKbPiOzBCKLOELneh+sAplyrsCiQdXarWqtlWFKq1Ko9KlZCKsqt9I4Ys278V/cTHkVrKerpZhznZHWpIdI2gdLrS+pWd8EttnaqiZ/ySTnblMU5UxXpXqJhnwq6U6aaveiX1nuySlUPvPglrKJqv3BZQSNr0UTB0vq26pgaKxdEwJtpTfWKxRvHqidaleEr3EJk21Nr0KZTqJ4Eor2dg1wzoumMjxrv3W3HmIKgzP7sS2KNj+MrKcb2KfJZdGWpSeZi2dSwRXSuDcvpqlVURENKNNX0A1PAjvHStS208ZONZsVrtQF5rEdyfWfkr2mmVxp1vPdORArf5ll54pb8RSc1WmoQ4svVm2zcke1KUswyK9Wo+YrulOb2C3Vl3PqgTCHEgY7qgnlbQMdU+syl9OHHDeIv+LjHOPYR0MQd7kacNqq/2h9EKXqEqlVneSVZbMaUikK7HvZEmKrUyh3f2XC23a3k2rxXQM1cK08W2rZFue5Opi8aqOm5aa1keup9pLm3X1RDMtvVtsX9kr3WpzCajS06FF+leqKk6P6Tve0/82fHgHGtvFeO23hdtfBhZpMbHPWuHSzg9qMCf28H7jMibmaySrEKf2hKnfMCAiIprZpjygikYiiFzwo6N9H4IfjyEUFu+vaB+axbtQd6G8TH9SlT2B3TLzaNFAXM90vNwgsjFpaKUIifYd9qogqe0IBJlhMS6DEjS4cfDXGar8pV0GQ2cMxvYnYlAzQGK6zxgbtusPaE5Ud1QyOvoddXOnC/GARn5/8krx4m1qjOtgkTGbFJb7Q6aJvYmG+5XNWqN8cxpSOxhI7RQgV/nuv3zo1f6kCjjjQVm68YLelkmIV8kyrKes9rh3fW5Lky69W3aZvkvu60SajA96qelWu9vAhiI43jNvO8NvC7i/kpjSor7PWt9KLLMezCUvozZfIxFAyrSc2qGLfsPgIBqUY0fe9FI/Y4kVERHNJFMbUJ3vRv311+P6L9Wi7Q2RiT/agtVLxftWH4yP8DWqqN2MmvKaCbefqno8ffU1WcWtJ1Omw5BpmRi1qktKD2dK25wsD0nOtAzisx6rdWs5JtbZPF1DBj6JXDYtE2egVP9T2ptNMlkF0zwfufxaT2WTRtn25vWWGdbUNKGkoZRtYf3dvOS1//ITz/SaOoeId85g0WmEUt3OYrsracHcI2JGMk2lrpecjtqLok6kyUPy+ExNf/r2ndL2acVwvOfx28LtL43lcdeKY2J5kvaDTLfm71kdT1r16uR9rpHzsrOMREREReQzsu907TUREc1VstqlLBWWQU627v6JiIgobho7pSAiIiIiIprZGFARERERERHZxICKiIiIiIjIJrahIiIiIiIisoklVERERERERDYxoCIiIiIiIrKJARUREREREZFNDKiIiIiIiIhsYkBFRERERERkEwMqIiIiIiIimxhQERERERER2cSAioiIiIiIyCYGVERERERERDYxoCIiIiIiIrKJARUREREREZFNDKiIiIiIiIhsmnUBVeS9Dqx/xIuw9n7KfNCJyr1B7Q3RzBE+shX1LwQR1d4TERERUe4+ExO011PvSgiBfx3FVe1tOp9buBzlNzpQ8lltRBrRoQ6seQJ4xtuMqmu1kVNFzHv+2y5cfrxKG0E0U0QR2L0Gu/AMXhfpt0QbS0RERETZTW9Add6DrY92I/T7MZweGFFKlZyVLiz+vPqx6ipGjwcQcriw7fvPoXV9mXWG75IPO//PPXD+/Bi2lWvjphIDKprRguhctR4nt/4SB9c5tHFEREREc00EI4fbsMVXjZ92uZFLrmh6Ayrd+W7UrtgKP5pw+N+eQ02pNl4XEZm9TXeh5agDdYesMnxR+FtvxcN4CR+2uabnDjsDKprhosdbcGvTJ3jh/xLH4HXaSCIiIqJZLnoxiMH3gxgeHobf0wXfeTFy3UGcPVSXU0CVZxuqADrmz8d8begY0kZPUGRELLx8cXc5yszBlFRaAXedW7wIw7O3Fyktlc73ovP5hdheN03BFNEsUHL3Bmx3dGHPazm0BbzoQb08DzzkKUB7Re28YjGt8OH6gp5rZix9e+8OaCMEeRMnzbj6wylbEp6H5Hm7Hp6L2qgiEdhdnMslTdqyWe3PDNTlSD4OUo8Nq32sj+sQR9l00pejGJbFnmJOpzmzOmcUHV4PsrE6H9DEffJbEUydj6C0fAPa25q1sbnLI6CSJ8TVaNPeSW2rCnNyGXm/S/lfUVMBp/Iq1filkPpiOIpP1FdxAU8bfHdvhns6qvoRzRoVqP7zCgR+5IWfPVQQUUHIvMNSNB7R3hIRFaHSygZs+/Y2NNRWoWxh/sUzeQRUIYymnBC9GP2t9tK2IAbfUF9V31KmvkgRxpmAdtd83WJT0BWA/6VwxmCMiHJTUeWGI9yNwIfaiHQW1aHn8mVczrEonCZBZTMuy32QUzVjWV1afPdyD+oWaaNoxqh6XO67y2iu1EZYKtJ9fHEAfTLvIKvOyPR6uRmsGD9N8jpnULHK7XxAUy2PgMqJxeu0l3FuLP6i9tKui2cwOCxfNMF1W5qIUD8hiwvGtq/XJmfghgfhDWcKxoRPwwgc7kLnAQ8CVvWTLo0geD6ivRGujMB7oAveM4W4TR9B6Gg3Op/vhs84D100jOCwcaEiCPR0ovs9i+9SAXB/ZLSsAmsRhle/gUFEVAi3OOfEzZfIeR+6nxfXjKMhcfUwiyI8HET4U+2tEHlPXI96AhbfJZrZohcsjgWRx1Ly42J81+EAwrOoNkweAZW8+3UMrdo7qfWtid8Ji8iASL5I134KIXi+t0t8x4Ga7x9G693JQVf43EkE4UKZM13xnPj99i14E2Vw/q4bq+/cCd8l7SNFEJ1rK3FXc5/4pjbmJ2tQ37wT9c/5Uurw5kd2R92IjvMLUX5tAOtXPIBOJXjUReB9bCnuurMLfu0EGz7yGFY/0oKtDV2pbcVogrg/sip1wFkujoFgKEvaT1PPXW8bYhhS2/MkqHXitarERxqxVPuNVd1wvf581unq7QTiQx5Vk3P+rbFNiDZkqfOf6/Kbv5e2vUNSOxxteVaplbK9m5Zqv0+0V0nbBiTHfWb8vV6HXx+s6/Lnto1ykWneqctqTJuJdr9J38sznUrZ56tJSUNZ2jqkLEtqGyNjOsrEuJ3U5dCr2rVhtTZ9udzxNGaZtvT9li7ta7JuQ206Nzeq1/j21dr30q9fyvJo29K8rfXvJ42fSDpOSpeJNKMOWbaDgXx0S+Nzo1j4x9cg8MCteOCF5KtGpH8nlt55F7re1UaEvXjsvq1oeWQjuj7QxtlhTnPGtG9cN30badvZTjowHwdWx7TlNtaGTGlYXZ5iuB5Yn0PS/t64XQ3pMGm5My6HPo80y6b/1rTfUrdLbudc4/5JZpFmpByPrSQXPNj57Cic4ljwacdC+Hgb1m/ch9OlK7DyjoUI//1qLP1qB4KzJKjKs1OKKjQrRfaFK24cGe5T/pfd4cSCSASR+BBCsL8LW9esRmOgAq0//yUOb6lI6XRi7PyA+FuKz12jvjcLvdqCwdqDaF3vgnPBuEhvImMse+7QDQ+gV2aqb1serzJYVt2kVkn4xNxaKz9RkXjaPt+K/d+owYpFcskDGDxjSISRQQz0iP+1y7FYe8aW40++gjp5G098bWJzJzPuj1wsxMKbxL9TIYypI3InT/p65slAydxbnNTz0bZqPpZuSp6ynK75pK5cKLSgIsGLxpuzXwBy/q1ycbFoE6JkAKwviPksv/l7SkbUYrsWgnJhzmufqdtjdbv2ViPXL/niLi/M6baR3U4JrOedfln7sEPPnBkUap2tvq9MOyUNqdvHMv1Z7ls1+MmU8Zwox/q9OChrnLT7U/eFXiOkZXvaG6b5b8PMHOu3qzdrxXnH+NvA2+q29J7Tb3dKYQz0yzm3Yvt6tczLzvL07Urdp+qxbU4z1vs/xRU/2r5XgtYfN6GmYrGSVwkEzhjmHcHg8W7x343li9UxcFTgKw9qFxhDqVU+LNOccpylpn2z/NKBmtlO2Q5pz3u5nivyNxXXA4Xldszw+1P7UG+RDrMvh8hbvyWPAC/63kudrnocuHGwPkNVTRvXpZzYuq5H4X/lAMq+2QRX9QpUiDGBH63HwwPVOPjzdjTcW4Wqyjo0bHaL6bfBl62JwUwhu02fPidj+/50XmzevHmxL92zJrbGnTxsefJArNd/Ojb+H9rXLQw+K3+/JzaovU82GNtToX82Gjvklt/dEXtzXBmhGH1ljTL/Hb8wjBQGn10Sm/fom7HkscLV8dj4Ve21UWBPbN6zxqUYi/U2bIz1/ka+vho78aSc952xfUHlQ8XVt3cp875z/0ltjGrMszE270/3ia1jkm7eNl0dGxNLNlcU//6YXOOxsd9pLzPSt026Y0onji2xreY19Iotq41RjsV5sT0BbYRGbr+Nz/bGBpVtbyV1Wjpl28vPTNONjzf+Rh6DYtxGj3kq+rJlWCftt/Pm6WlE85ve2EZlvP5bmY7U5Uk+3hPrb1wmO8uffhnEYJynPt44Lus2MEzbMN3kfabtD9N04utnWr74eMNy6OOSp6tvO6vfm9bZJN28xScWy5oYl5KmCrTOlt/Xp22ep75frfadebyQSDOJ9KqPs0pDxnGp21Lf5qlp3+r3kjo+w/7IcxvGv29aT7PUZTfsx6Tl18br0yvYPs3h2M6wXeR20+djeS25eiK2S07DfC1Rlj/5WqS7mu0Ck8O6J6VHi32RazpI3T860/4Q0m2v+PiMaUGbnvk4EvRlNS9vfLzF+TQpLWrU5chwPUi3/SSr87RhP6SsW87LkW69U7dv6j7L77qkjsuwL1O+a50+0l/XxXTu0dJ5SNs29+yJnTQlZz3/bZ52UdD3c8r+SC/PEqoCi7efcuNvXulHf1/ysL+tCXXVZSjVSgvyVwb3P2ilTcNevHgccOyoRXW8amEEI8Oyw3Y3Vv5Rcn1D500r4SoX89beq0bQ9dXrcX27X8Tf2ZSiakc7auWdncgA+p8X/+9N7olw5JQsXQNqbpPxe4LDKd7LKpDae1U+804vGokgNOyDZ3c9Kpd2I6nG26xWnPtjUn0aRSQ8goBS0vtl7Diewx05lOBzSQ/Wzldqu0rH+h70PF6HqglUD3a/fDapRDx+R/vIaLyqbvxutrxzZqiaIAf1Lmkb/GnujMbvAP7aVI15UR32vtwqxjfAKe/wGRvYmxp2Vz1+Vr3be6QPA6a7gfksf0pVatkBiHL3srDC7/Updx3Ny6bcLf31QbE1xLbsH0i5A2levqp69bvG0gXrRtMOVNcqU7XdmVFqNfNMy9qKY6ZOUwq1zpbfT9dRS6XLsvRFYZGO5PFyrEW+Sp9eC0FPg237jXeZA+iWd/7XrUV10vom2N2G2VTdI5fGcIf+YghBMbWDb8lpGrbFkF8pMWi9R91uBdunuRzbGZRWNaP9frnnIxjo7xT/a7D5fsO15MwwlCvM/SuVO/Zxi5yyf1WUL9PeayJHd+LW6+vRbaxRY5LLumeTWzoIwK+cQ9VSleTzq1aCY1HKZd7GVucKO8zrW+jrQULqOUR27HH2ZSVVpZYmWaSd3JejCg1yukca0W1YrvDhfUnp3ZLN61Lu8r2ui7x3Z4OSziO/Upv1uP5yAyqSqpgl8t+LkzZwetELIh0O+PMfhkJTkk+b1oAq3n6qfCWW3aCMyl/GYvJSlN2ihkTBd+TzqxxouHulodrgCAZfEv8s5h86NyYy1k7tnc4J13cO4th3cnneVQmc5U7le5F3fZAdw9escxl6IgzhzLuyfnUTVt6ijtGFQ0E03bHCNI985p1OBMP9P0MgvABfWCCXYC4pxv0xMcEXOjO367owgO6jI7jq/EM4BiZy+cpN1eOyjWXyBbdQ1ZYqnOYzrrmTnDBCp7SXedN/WwGnxcXBsb5ZZAoccMjPfjuqnLPctdXJF1lF+oAh9+VvhSspY6TRM+UFFDqnrAnW3m5xNVtUjbXKRTiRQVFZdESkZAgzMLQdSKnOmJc0nSClW9aUHmELuM5S2u9LxrYMGapepemoQQ0uxDEemszjtgouGbgZM1pasGKdvlX2tmEOtDSuBz9qsCCOyUp1mm1vq9l1NYOaOE4Ktk9zOrbTK7lBLOu14kVkED6Zr7jXDdeNykeK0KlB5XzddJupAy0ZOD7swgrThaT0tg145qft2GCYhlnmdc9yXMblkA6U4DZfNs4VOZrc64GBxTlEcty+VqydSKtJVVGFlOM5v+XQp6undfl7vXqr5XVBZ/O6lAt71/VE3lt9LFJFan5aP07urkGV3fx/kZnWgEp//pSj1nTHJh85lV4FMfCP8nSwAdVVhrOWCOh88r/5jpH4/qDvPqxMea5VCcpqRUR+nfY2JxEMHpXr6YL7DkOCiohgrl/8F+ue3BlHBMF3IeadXDZmb95mpaiqb0LdvVVYPqHpzGTFtD8m5pOPU5/JluTGGmyrFxd1LZDMTRRXP9Ze5q3K0MZS7cBG1nVXTsKWjZ4LSXusg7xDF1+G1CH5Lq7O6pEQNDGGhtwWbYpmK6U9i7LeM+O5S+ZSIT1Y0dsmTS09Yy+DHy0j2eISYx1wyptcp+RYraREGV+c9Bt2rlrjDbsIRgJq8GOuDSNvLOOOCnF1NrmuCnW1ZVNywy5rOtAz7C+ftTyvqkMxdYc/ketBIeW5HIu0GwB6aZ9W8uR+uWEat+1Eruv6Y5EsSmC14ySfRx6V3CDOEdWu/IfKfPJA9k1jQJV4/tTa8gxdnmdxzWflAR9EKFNRZjiEk7Ju27oVWG7YqmoPgSKxlpl257BIxDWmE/alEXgPe6y7Xc9oFEGZURcJarnxTtP5IJTuOERmN2nul/zwXjJVt7A9b0pVXPsjcsoLb7/ejW4EoSEvunu8CFh16T4lIvjogvhXXoI0/bzkKHESVqpHtK+e1Eb2icxYmmoNF8MiM5aO9ts055Hw4Y5Eg94vLlbvTFpWadLvJqYp0chIyzTGq3+YaHeMC8l5k3rXUs9EJYlXIbG+Q5uZLJ3RSmVajsUzDfG0YFuaO6x5LKu9dc5xvkMdWgmcrDqaWGc9E2LplHXVJ72aUOqd+AKrbFCqA6npObdgZfLSjZ6xl8eAmhHVqzkp4+WxLcbLa7ax+lPBlienYzu70VNqR1vVf2Sco37dEZnHpLvxEfj7x0wlTFGEBjzwWHa7nizzuudRqpQtHZhKD83C4vxaXCZyPTBIU9Iar2p5U7ZUle9yOFC3VT8G9PmkKYE0snVdsjivZU0zeV7XL2jNelJKYGW6l+GUXi02iuDhLviLLRnlafoCKpGB9Wntp1Lv/udu4Y3V4m8EVzPdqv/0E8s7+VGtFz/ndcb5R+E/4sPa+w2XlItetPwkJC5uY9h1Z749VIl5WCWSaFQZ7XIkHyihN3pR8mBNoth2QvOegAte7Fy1Gqsf81qeUIyiw11oFN9tPBDMUk9VHDQHtqJ2zXp0DmWr0RqC97Fa1H6tBT6rE1ES+V2xrKt2wiuDgYyKaH+I7bZnuAwLz2zFnX/dgc7Wbow6XFhbNY59Kxoz1p2fPGMYOyf+VZVB74gqV7Ino9Sej3LPiNiqJmSg32VtvNnco1EAHTcvheyCN93JP+1vL3qwY1ObUt1B+a1+B1H2nGS6OxfYrZVKZGh/kom6DPLuX+oy1OdZypNSFcVCvNrKpqWm7SK3l9qrU6aqX+kZ7som1efX2mVMQMq2yXNZ7a5zLvOVVYMlc7sRvQ2EJYt0JEu5VittK7JU88lLupuOWnUgmeE7nNw2KZ3JSzeClnFvE9eTNuP6K+PF8blKTj95uxRseXI5tnPwyadWF5hP5ON3gLsdyctxvg+9JQ2oiacXcY18XmSmF1ThmjduxZYsPdHlsu65yZYO9MBAbBtzz27yRoI4v1p1hz8h03g9SGjDaqv11W6cZA10hLyXQz8G3vao185crid5XpfUQFzMw9RuzirNTOS6Hm8/Ze6PQO9RWa8WGxXf+/tPsMDWSaN4TH1AdUXtFj34theyOZpsvFb6eTnOXpMxx02yS0Y/RkIZfr+oHNXyBHzuNEJX1FG4Ii7u+9UEMTA8ovyXokOdeLGkFZsN1f2Ch4NwfacGC34XQsCR7537MlR8Q6YScUGLZ/ZD8PykQ3nlDwQTd6EueNDx7lpsuz+R9CY2b/uCnh3oGgog8NIOdA9k2jdh+PbvhEd819P8oukZX2bD8DV3wz/gQ8v+/uSTlNlQL+pf8sP/hnyobsZvAh/0YsdLYlmHurDjlWydRBTP/gi8EUbNfysTAf8YwiIvtvKJbXDdUIrSZctFmvYhnHFbTpJIGKFhixNgNuIiIzOB8sKuVAWID/rJ/CAa0mYO9frvyc/KyVtls9aYX168jMuglpakNtw2SPdbPUMW/60Ddc9oDavjz9VRB7n+8iJ78BlTI+ZcZVmGnGh3KhPLZr6IGygdbmgXVr0KhzJopUtin+21VfXLkPmKT9MwXcF+18nW+zbnZbW9ztnnq2duk6draDdmlRmVTOlI/37rW4WoQqWXfBqW35ThUpdbfL5JrFHG41QzaelG0kuLhaRSpXTjhYItT7ZjOzdltzUpx3/QcFMj9No+KFeY4wEE4+d1cd15LoC14noSP9de8sF7bQMayscRErtp4bVZKiplW/c8qB07pE8HalsawXxcKzd7ZKlsoar8FcH1wMhyfeXv95o6qkkj7+XQOqdob1Suna1bc7me5Hdd0s9VyetmkWYmdF2H9lgki/ZTl8ag5Lqr1McVBQ88h9GtG0xNb6aB7MhLe3RTKKQdv+P/jjFtXLY4ZWoDqrBIUP/H9bj++utx12NK6yWhA+vF++uv3wKvjWMGy8pRI1LJwKlEUJSqDA1/fxDbFnRj46pGtDzfgvpVe7Dgx2fxTocb4631WP9YG9oeW4/63gq0P16VVN+y7OFm1FyrFlFW/Hl1nju9FDVP/BTt64JodK/HzvY2bF2zFYMPfogPfyYy0Ed3YPWmFnS2NmJ16xg2d9QlXSwyzTskgg35tOlsQ5eNDgnK7m2G+0Zx4IltO/JRpooHDqysE+shvujaUQdXxjZF5XD9rUv8womG9VnuGN5ag/Zq8Y0bG7ChKuM3gZtr0LxObDW5sOc/ylJNonj2R/nWZrhKQjj9bhjubzWgSjZols6fxgDEdopvyxB8FtPpDQyiN2X8BIvNz8iqjxYnwGzERSNtlS5Z7cvcU1ISw8VggpTe5VJ6xFOrYPVkyVTl/FuRiem5bNHrl1K9zdwbXH7kMqRsQzndHHvsMmawciF7arKadutbYltk3GeZyfVQMxEGyvbJUP0tK3VfmKertOvIY1nzX+cc5yvTRcp01d+mrepouW9bcUwcSzll9nIQzwinI5Z7u7ZuuZYsTVa6kfSSWvOy6HfVrZaxYMujHNvm7WW9/9MpvbcVP21zI9i0Rs1XbK/F1n9twIf/6zC2Vb+JHV9V8yCNq1ow9s3nUGesAlgqrmVfL1OaHfQON6Hmjuy3tZR1N5+3REb3bN7HWiJotU4HanWvlO2gzGti571kxXE9UFhuxzx+r8l3OeIBj5hzzqXU+VyXrM5VVus6oeu67JBDZEYcshaaNkp3433YXC/yGL5utGxfj47PPo0X1uW+PSfNB51KfCKHWzfJZ8YJx3fiLm3c9duzFARo3afPYFdjJ/5uSWye+1BsVBuTydXx8di4GK4an20lnyekjM/wzAflOQNrYofOae/NZJ/1GZ+tkJh30mz+4+rE522D+hyDTM9h0Lz7lOXzE4rTYOypPJ4ZUBT7Q5lW8jNIlH2TQ3oefDaH/adQny2Ry348uf9O62duEU2j9M9NoYlL/6wqmoA0+QrLPIiJ8hzMJ0/k+JzIsdiY1XGhPxspj2si6dI9E4ry8rEpf2WiHAsfa29mgWnt5a8wSuBatx0Vx1+EN4eHKpWUlqJUDCXG3gFL1HGlpemL10PHfwbvvXVw3RhF8IjPVt1efd5Js/lsyZTM267g+0GsXFYEdw5yMTyIYNWynO9GFsP+iJ45CW/SHZwQ3vxHL2rqZA9RI/C9MaV7W+kNs+ab7ukveieiqTHUrVbfKeKe82akNPkKyzyIUdSPN18Cmu9diZKLfng/SF/NSO1VcimW7jJXJc2z/RjRZLjWlL8yUY4FvWbOLDALAiqhvAGtD49hn2eyHrIaRuCoD+4/vw/OK4PwfSQrrU2VaZz3FT9633ChOqX7+GIUhd/jg+uuyQ4FCrs/Rt7vBWorEO/nMhyE/6japXv0eC8Gr526S6Gc377wNmyT1SeJaFaLd/Gut4GpZzhVFD4UwRCacF91CULHAyi5IX2O1LF+r/bQ1jTtFddNpD0bEeVjdgRUsl3Mjr2ofq0NL+ZQSpW/UiwrFxeb8AA6W4fhqp/K+/eFnXfwQC1q19ZizXflvasubFkj37fAl1IxNAL/c50oadk8I0orIsc70GnqTGRyFHJ/hHFmOKw8bDpeU77UieWVQGigE0+eug/N4qJqW9iHFrGva1c1KhdX79MblX1fe8CqY9QgXny6Fxu6WuGaRXeMiCg7c8+ENI2+WIa6G8ZxuqcFXdduQE3GdskO1B2ybuOSb9tCIpqYz8h6f9rrGS861IE1TwDPeJsTDfwLKBqJiAxvqfUDwsS857/twuWkboILJ+O8J0M0BH8AcFXPhNKKKELHB4G7XHDm9KDniSvY/rgSBVJ6cpI9zcjJZ556YHcH8HghelaKimmtwS48g9dNHbIQEdEUi0YQ+f3sqg5FNNvNqoBKirzXgcb/XoYXfuye2jszH3Si8u1qDO2YCeU5NBtELoRwzQ0TfwJ4+MhW7PjtZry0pYLBFBEREVGeZl1ARURERERENFVmSRsqIiIiIiKiqceAioiIiIiIyCYGVERERERERDYxoCIiIiIiIrKJARUREREREZFNDKiIiIiIiIhsYkBFRERERERkEwMqIiIiIiIimxhQERERERER2cSAioiIiIiIyCYGVERERERERDYxoCIiIiIiIrKJARUREREREZFNDKiIiIiIiIhsYkCVJICO+fMx/yEPwtoYIiIiIiKidBhQERERERER2cSAioiIiIiIyCYGVERERERERDZNYUAVhueh+Zg/fz46hrRRmsBuOb4enovaCIX+fdP4oQ5lGsbBPL3ktlDaazHUHza0jDJPJ2O7qcQ04sPugPYZERERERHNVVMYUDlQt7VVeRUMGUOXAPzt8r8Xo79VRqguDqDviPjfsh11i9RRSuC1qk19Y9C2Kl2A04cd81fD/Ivw4frU6RxpxFKL7+KiB/VW49tXi8CqQyw9ERERERHNVVNb5a/SBRlSefsHEqVBQ/54sNL2tiE8+e2oCLGA1nuq1PdDHVitBF5uHPz1ZVy+rA2/PijGCCLASSmpOuKFd91BnNW+27PeoQRIOzbJKYtpv2WYzuVjyrKZhd/rU5bD/fJZw3fF8Jb4dov4IKV0jIiIiIiI5oopbkNVBZcMQo70YUCrxhcOBQER9Bx7WYRF7f54iU/gbRlmtcJVaXwvg6CeeImVYlEdemRwIyQFZIpWHDtUBxFGxRkDpGZt2qoqNOvBmYUKp3EqQmUzLj/ejKqkaRARERER0Vwy5Z1SVN2jlFGh7z1ZRhXGQL8Ib25xour2tSKYaYNfKfHRqgG2uESYI4UROiX/JwKsJFrJF06FkttBrVsMp/ZSFzqnhFNYe7spQJIWVWPtOu21xrF+Lw6KcUq1Qq39VFJbLCIiIiIimrOmPKCKV/s7F4q3k1Kq9S1yokKMV9pXadUA49X9ppUDdYf0qn5nleDKu2mpGlzxAcBERERERHPa1AdUerU/Wb1PaSellzqp42X7qoCsBphUGuWA8xb5Xy/BMtHbYd3iTKreZ8V5k6zUp5eQmegdYaRlCK5kNcMjjdjB0ioiIiIiojlrGgIqvdpfG1bLnvbi1fq08SJIWS07jTCMl9TfyKp3pm7UZS98Wo99uZRoOZSqhWopU3InFgF03NyotK8yUnoEtOhBUG/TRUREREREc9e0BFTxNk+C+yZDK6d046XKZhyTJVsi5Gm8OdGeab4eBLUcM3UykcaiOuyVHWAIxnZR89N0ma70CKh0kW787nytx8FWbJc9B8pgTBuf+kwsIiIiIiKaraYnoNKr/aV0DuHEYqVTCOtOI6oe16raJdG6UX889/ZWjvU9qdNRulc3dZ0uexDUq/eZKd9vTipFIyIiIiKiueUzMUF7TURERERERHmYphIqIiIiIiKimY8BFRERERERkU0MqIiIiIiIiGxiQEVERERERGQTAyoiIiIiIiJbgP8fZfV31WrrULQAAAAASUVORK5CYII=)"
      ],
      "metadata": {
        "id": "rfXh6s7yWgaT"
      }
    },
    {
      "cell_type": "markdown",
      "source": [
        " lower perplexity values indicate better performance. A perplexity value closer to 1 indicates that the model is very certain about its predictions and is close to the true underlying distribution of the data. However, it's essential to consider the context and complexity of the dataset when interpreting perplexity values.\n",
        "  In practice, perplexity values can range from less than 10 to several hundred or even thousands.\n",
        "\n",
        "For example:\n",
        "\n",
        "Perplexity values below 100 are often considered good for language modeling tasks.\n",
        "\n",
        "Perplexity values above 100 indicate that the model may struggle to accurately predict the next word in the sequence.\n",
        "\n",
        "Extremely high perplexity values (e.g., in the thousands) suggest that the model is performing poorly and may not capture the underlying patterns in the data effectively.\n",
        "\n"
      ],
      "metadata": {
        "id": "fMAvjDF3cbQ4"
      }
    },
    {
      "cell_type": "markdown",
      "source": [
        "results of the model :\n",
        "\n",
        "                            General     case folding     stemming     removing stop words\n",
        "\n",
        "Test Perplexity--------------     861.776-------- 94.130--------------24.220-----------------19.287\n",
        "\n",
        "Validation Perplexity-----      849.295---------91.547--------------24.295-----------------19.617\n"
      ],
      "metadata": {
        "id": "AypWYGWbgQIx"
      }
    },
    {
      "cell_type": "markdown",
      "source": [
        "**1. Baseline Model (No Linguistic Operations):**\n",
        "\n",
        "Test Perplexity: 861.776\n",
        "This represents the performance of the unigram model without any linguistic preprocessing. The high perplexity score indicates that the model struggles to accurately predict the next word in the test data, due to the presence of noise and variability in the text, dublicates and likely because of a lot of stop words that dont contrbute to the model.\n",
        "\n",
        "**2. Case Folding:**\n",
        "\n",
        "Test Perplexity: 94.130\n",
        "Applying case folding helps normalize the text by converting all characters to lowercase. This reduces the variability caused by different cases of the same word, leading to improved performance compared to the baseline. The significant decrease in perplexity suggests that case folding contributes to better word prediction.\n",
        "\n",
        "**3. Stemming:**\n",
        "\n",
        "Test Perplexity: 24.220\n",
        "Stemming reduces words to their root or base form, thereby collapsing variations of the same word into a single representation. This operation further reduces the vocabulary size and helps the model generalize better across morphological variations. The substantial decrease in perplexity indicates that stemming has a significant positive impact on the model's performance.\n",
        "\n",
        "**4. Removing Stop Words:**\n",
        "\n",
        "Test Perplexity: 19.287\n",
        "Stop words, which are common and non-discriminative words like \"the,\" \"and,\" \"is,\" etc., often add noise to language models without contributing much to their predictive power. Removing these words reduces the noise in the data and allows the model to focus on more informative words. The lowest perplexity score among all iterations suggests that stop word removal has the most profound effect on improving the model's predictive performance.\n",
        "In summary, each linguistic operation contributes to reducing the complexity and noise in the text data, leading to improved performance of the unigram model in predicting word sequences. While case folding, stemming, and removing stop words all play important roles, stop word removal appears to have the most significant impact on reducing perplexity and enhancing the model's predictive capabilities."
      ],
      "metadata": {
        "id": "xWwWIITIg7Wt"
      }
    }
  ]
}