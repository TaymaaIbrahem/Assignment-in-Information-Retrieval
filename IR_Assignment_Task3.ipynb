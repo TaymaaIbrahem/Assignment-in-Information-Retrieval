{
  "cells": [
    {
      "cell_type": "markdown",
      "metadata": {
        "id": "igJM3BqBj6pR"
      },
      "source": [
        "***Task 3 Text clustering***\n",
        "\n"
      ]
    },
    {
      "cell_type": "code",
      "execution_count": null,
      "metadata": {
        "id": "lsquKY_zYAYc"
      },
      "outputs": [],
      "source": [
        "#importing libraries\n",
        "from sklearn.feature_extraction.text import TfidfVectorizer\n",
        "from sklearn.metrics import adjusted_rand_score\n",
        "from sklearn.metrics import silhouette_score\n",
        "from sklearn.datasets import load_files\n",
        "from sklearn.decomposition import PCA\n",
        "from sklearn.cluster import KMeans\n",
        "import matplotlib.pyplot as plt\n",
        "import pandas as pd\n",
        "import numpy as np\n",
        "import os"
      ]
    },
    {
      "cell_type": "code",
      "execution_count": null,
      "metadata": {
        "colab": {
          "base_uri": "https://localhost:8080/"
        },
        "id": "t-6Myxcabcq3",
        "outputId": "ee190f16-6a97-4d2b-8efe-d8a57597f67b"
      },
      "outputs": [
        {
          "name": "stdout",
          "output_type": "stream",
          "text": [
            "Drive already mounted at /content/drive; to attempt to forcibly remount, call drive.mount(\"/content/drive\", force_remount=True).\n"
          ]
        }
      ],
      "source": [
        "# improting google drive\n",
        "from google.colab import drive\n",
        "drive.mount('/content/drive')"
      ]
    },
    {
      "cell_type": "code",
      "execution_count": null,
      "metadata": {
        "id": "3VFOBJo4bO_S"
      },
      "outputs": [],
      "source": [
        "# Function to load documents from a directory\n",
        "def load_documents(directory,cluster_num):\n",
        "    documents = []\n",
        "    labels = []\n",
        "    file_names = os.listdir(directory)\n",
        "    i=0\n",
        "    j=0\n",
        "    for file_name in file_names:\n",
        "        with open(os.path.join(directory, file_name), 'r', encoding='utf-8') as file:\n",
        "            documents.append(file.read())\n",
        "            labels.append(cluster_num)\n",
        "    return documents, labels"
      ]
    },
    {
      "cell_type": "code",
      "execution_count": null,
      "metadata": {
        "id": "I-weybgck6Xc"
      },
      "outputs": [],
      "source": [
        "# Load documents from directories\n",
        "dir1_documents, dir1_labels = load_documents('/content/drive/MyDrive/IR_data/Filter bubble/text',4)\n",
        "dir2_documents, dir2_labels = load_documents('/content/drive/MyDrive/IR_data/AI explainability/text',2)\n",
        "dir3_documents, dir3_labels = load_documents('/content/drive/MyDrive/IR_data/Discrimination discovery/text',3)\n",
        "dir4_documents, dir4_labels = load_documents('/content/drive/MyDrive/IR_data/Algorithmic transparency/text',1)"
      ]
    },
    {
      "cell_type": "code",
      "execution_count": null,
      "metadata": {
        "id": "bKdz_xKulwy9"
      },
      "outputs": [],
      "source": [
        "# Combine all documents and labels into a single list\n",
        "all_documents = dir1_documents + dir2_documents + dir3_documents + dir4_documents\n",
        "all_labels = dir1_labels + dir2_labels + dir3_labels + dir4_labels"
      ]
    },
    {
      "cell_type": "code",
      "execution_count": null,
      "metadata": {
        "id": "59qRbln5l163"
      },
      "outputs": [],
      "source": [
        "# Vectorize the text using TF-IDF\n",
        "vectorizer = TfidfVectorizer(stop_words='english')\n",
        "vectorized_documents = vectorizer.fit_transform(all_documents)\n",
        "# reduce the dimensionality of the data using PCA\n",
        "pca = PCA(n_components=2)\n",
        "reduced_data = pca.fit_transform(vectorized_documents.toarray())"
      ]
    },
    {
      "cell_type": "code",
      "execution_count": null,
      "metadata": {
        "colab": {
          "base_uri": "https://localhost:8080/",
          "height": 129
        },
        "id": "rYj3cHsTl6Lm",
        "outputId": "2579861a-5c74-4d98-a9d9-b4e72f6bd449"
      },
      "outputs": [
        {
          "name": "stderr",
          "output_type": "stream",
          "text": [
            "/usr/local/lib/python3.10/dist-packages/sklearn/cluster/_kmeans.py:870: FutureWarning: The default value of `n_init` will change from 10 to 'auto' in 1.4. Set the value of `n_init` explicitly to suppress the warning\n",
            "  warnings.warn(\n"
          ]
        },
        {
          "data": {
            "text/html": [
              "<style>#sk-container-id-29 {color: black;background-color: white;}#sk-container-id-29 pre{padding: 0;}#sk-container-id-29 div.sk-toggleable {background-color: white;}#sk-container-id-29 label.sk-toggleable__label {cursor: pointer;display: block;width: 100%;margin-bottom: 0;padding: 0.3em;box-sizing: border-box;text-align: center;}#sk-container-id-29 label.sk-toggleable__label-arrow:before {content: \"▸\";float: left;margin-right: 0.25em;color: #696969;}#sk-container-id-29 label.sk-toggleable__label-arrow:hover:before {color: black;}#sk-container-id-29 div.sk-estimator:hover label.sk-toggleable__label-arrow:before {color: black;}#sk-container-id-29 div.sk-toggleable__content {max-height: 0;max-width: 0;overflow: hidden;text-align: left;background-color: #f0f8ff;}#sk-container-id-29 div.sk-toggleable__content pre {margin: 0.2em;color: black;border-radius: 0.25em;background-color: #f0f8ff;}#sk-container-id-29 input.sk-toggleable__control:checked~div.sk-toggleable__content {max-height: 200px;max-width: 100%;overflow: auto;}#sk-container-id-29 input.sk-toggleable__control:checked~label.sk-toggleable__label-arrow:before {content: \"▾\";}#sk-container-id-29 div.sk-estimator input.sk-toggleable__control:checked~label.sk-toggleable__label {background-color: #d4ebff;}#sk-container-id-29 div.sk-label input.sk-toggleable__control:checked~label.sk-toggleable__label {background-color: #d4ebff;}#sk-container-id-29 input.sk-hidden--visually {border: 0;clip: rect(1px 1px 1px 1px);clip: rect(1px, 1px, 1px, 1px);height: 1px;margin: -1px;overflow: hidden;padding: 0;position: absolute;width: 1px;}#sk-container-id-29 div.sk-estimator {font-family: monospace;background-color: #f0f8ff;border: 1px dotted black;border-radius: 0.25em;box-sizing: border-box;margin-bottom: 0.5em;}#sk-container-id-29 div.sk-estimator:hover {background-color: #d4ebff;}#sk-container-id-29 div.sk-parallel-item::after {content: \"\";width: 100%;border-bottom: 1px solid gray;flex-grow: 1;}#sk-container-id-29 div.sk-label:hover label.sk-toggleable__label {background-color: #d4ebff;}#sk-container-id-29 div.sk-serial::before {content: \"\";position: absolute;border-left: 1px solid gray;box-sizing: border-box;top: 0;bottom: 0;left: 50%;z-index: 0;}#sk-container-id-29 div.sk-serial {display: flex;flex-direction: column;align-items: center;background-color: white;padding-right: 0.2em;padding-left: 0.2em;position: relative;}#sk-container-id-29 div.sk-item {position: relative;z-index: 1;}#sk-container-id-29 div.sk-parallel {display: flex;align-items: stretch;justify-content: center;background-color: white;position: relative;}#sk-container-id-29 div.sk-item::before, #sk-container-id-29 div.sk-parallel-item::before {content: \"\";position: absolute;border-left: 1px solid gray;box-sizing: border-box;top: 0;bottom: 0;left: 50%;z-index: -1;}#sk-container-id-29 div.sk-parallel-item {display: flex;flex-direction: column;z-index: 1;position: relative;background-color: white;}#sk-container-id-29 div.sk-parallel-item:first-child::after {align-self: flex-end;width: 50%;}#sk-container-id-29 div.sk-parallel-item:last-child::after {align-self: flex-start;width: 50%;}#sk-container-id-29 div.sk-parallel-item:only-child::after {width: 0;}#sk-container-id-29 div.sk-dashed-wrapped {border: 1px dashed gray;margin: 0 0.4em 0.5em 0.4em;box-sizing: border-box;padding-bottom: 0.4em;background-color: white;}#sk-container-id-29 div.sk-label label {font-family: monospace;font-weight: bold;display: inline-block;line-height: 1.2em;}#sk-container-id-29 div.sk-label-container {text-align: center;}#sk-container-id-29 div.sk-container {/* jupyter's `normalize.less` sets `[hidden] { display: none; }` but bootstrap.min.css set `[hidden] { display: none !important; }` so we also need the `!important` here to be able to override the default hidden behavior on the sphinx rendered scikit-learn.org. See: https://github.com/scikit-learn/scikit-learn/issues/21755 */display: inline-block !important;position: relative;}#sk-container-id-29 div.sk-text-repr-fallback {display: none;}</style><div id=\"sk-container-id-29\" class=\"sk-top-container\"><div class=\"sk-text-repr-fallback\"><pre>KMeans(n_clusters=4, random_state=42)</pre><b>In a Jupyter environment, please rerun this cell to show the HTML representation or trust the notebook. <br />On GitHub, the HTML representation is unable to render, please try loading this page with nbviewer.org.</b></div><div class=\"sk-container\" hidden><div class=\"sk-item\"><div class=\"sk-estimator sk-toggleable\"><input class=\"sk-toggleable__control sk-hidden--visually\" id=\"sk-estimator-id-29\" type=\"checkbox\" checked><label for=\"sk-estimator-id-29\" class=\"sk-toggleable__label sk-toggleable__label-arrow\">KMeans</label><div class=\"sk-toggleable__content\"><pre>KMeans(n_clusters=4, random_state=42)</pre></div></div></div></div></div>"
            ],
            "text/plain": [
              "KMeans(n_clusters=4, random_state=42)"
            ]
          },
          "execution_count": 249,
          "metadata": {},
          "output_type": "execute_result"
        }
      ],
      "source": [
        "# cluster the documents using k-means\n",
        "num_clusters = 4\n",
        "kmeans = KMeans(n_clusters=num_clusters, random_state=42)\n",
        "kmeans.fit(vectorized_documents)"
      ]
    },
    {
      "cell_type": "markdown",
      "metadata": {
        "id": "6UC5tEBBkm-f"
      },
      "source": [
        "**The Adjusted Rand Index (ARI):**\n",
        "\n",
        "is a measure used to evaluate the similarity between clusterings. It compares how well the clusters obtained from an algorithm match the true clusters or ground truth labels.\n",
        "\n",
        "The ARI value ranges from -1 to 1:\n",
        "\n",
        "A score of 1 indicates perfect agreement between theclusterings, meaning that they are identical.\n",
        "A score close to 0 indicates that the clusterings are random or do not agree better than random chance.\n",
        "A negative score indicates that the agreement is worse than random chance.\n",
        "\n",
        "the Adjusted Rand Index provides a way to quantify the similarity between clusterings, allowing us to assess the performance of a clustering algorithm compared to a ground truth or reference clustering."
      ]
    },
    {
      "cell_type": "code",
      "execution_count": null,
      "metadata": {
        "colab": {
          "base_uri": "https://localhost:8080/"
        },
        "id": "rl5gei8nl_7C",
        "outputId": "d4145bcb-e1d2-4e9d-c0c7-bc0bb1cd2caa"
      },
      "outputs": [
        {
          "name": "stdout",
          "output_type": "stream",
          "text": [
            "Adjusted Rand Index (ARI): 0.669064552801996\n"
          ]
        }
      ],
      "source": [
        "# Evaluate clustering performance using Adjusted Rand Index (ARI)\n",
        "ari = adjusted_rand_score(all_labels, kmeans.labels_)\n",
        "print(\"Adjusted Rand Index (ARI):\", ari)"
      ]
    },
    {
      "cell_type": "code",
      "execution_count": null,
      "metadata": {
        "colab": {
          "base_uri": "https://localhost:8080/",
          "height": 534
        },
        "id": "n6RCMSO_mHid",
        "outputId": "a7e97b11-8b25-4471-87de-7fa37a54eec6"
      },
      "outputs": [
        {
          "name": "stdout",
          "output_type": "stream",
          "text": [
            "                                              document  cluster\n",
            "148  @-PLOS | MEDICINE\\n\\n \\n\\nCrossMark\\n\\ncllck f...        1\n",
            "125  International Lawyer\\n\\nVolume 11 | Number 2 A...        1\n",
            "104  ResearchGate\\n\\nSee discussions, stats, and au...        0\n",
            "62   ® Check for updates\\n\\nReceived: 22 November 2...        3\n",
            "11   The Journal of Social Media in Society\\nSpring...        2\n"
          ]
        },
        {
          "data": {
            "image/png": "[encoded data removed]",
            "text/plain": [
              "<Figure size 640x480 with 1 Axes>"
            ]
          },
          "metadata": {},
          "output_type": "display_data"
        }
      ],
      "source": [
        "#visualization of the clustering result\n",
        "results = pd.DataFrame()\n",
        "results['document'] = all_documents\n",
        "results['cluster'] = kmeans.labels_\n",
        "\n",
        "# print the results\n",
        "print(results.sample(5))\n",
        "\n",
        "# plot the results\n",
        "colors = ['red', 'green','yellow','blue']\n",
        "cluster = ['1','2','3','4']\n",
        "for i in range(num_clusters):\n",
        "    plt.scatter(reduced_data[kmeans.labels_ == i, 0],\n",
        "                reduced_data[kmeans.labels_ == i, 1],\n",
        "                s=10, color=colors[i],\n",
        "                label=f' {cluster[i]}')\n",
        "plt.legend()\n",
        "plt.show()"
      ]
    },
    {
      "cell_type": "markdown",
      "metadata": {
        "id": "Z8TdNjtflwKI"
      },
      "source": [
        "another evaluation method of the  model.\n",
        "\n",
        "**silhouette score:**\n",
        "\n",
        "measure of how similar an object is to its own cluster (cohesion) compared to other clusters (separation). It ranges from -1 to 1, where:\n",
        "\n",
        "A score close to +1 indicates that the sample is far away from the neighboring clusters.\n",
        "A score of 0 indicates that the sample is on or very close to the decision boundary between two neighboring clusters.\n",
        "A score close to -1 indicates that the sample is misclassified and is more similar to a neighboring cluster than its own cluster.\n",
        "Therefore, the higher the silhouette score, the better results we get."
      ]
    },
    {
      "cell_type": "code",
      "execution_count": null,
      "metadata": {
        "id": "LIZ6VD4uryoe"
      },
      "outputs": [],
      "source": [
        "silhouette_avg = silhouette_score(vectorized_documents, kmeans.labels_)\n",
        "cluster_centers = kmeans.cluster_centers_"
      ]
    },
    {
      "cell_type": "code",
      "execution_count": null,
      "metadata": {
        "colab": {
          "base_uri": "https://localhost:8080/"
        },
        "id": "7vIG-FO3r9wU",
        "outputId": "a03081b9-23ed-4ea9-b05c-0087296f2211"
      },
      "outputs": [
        {
          "name": "stdout",
          "output_type": "stream",
          "text": [
            "Cluster centers:\n",
            "Cluster 1: attribute, indirect, rules, attributes, dataset, discriminatory, causal, protected, data, discrimination\n",
            "Cluster 2: 10, decision, information, systems, users, algorithm, algorithms, data, algorithmic, transparency\n",
            "Cluster 3: political, user, facebook, news, information, social, users, media, bubble, filter\n",
            "Cluster 4: systems, models, learning, explainability, explainable, explanations, model, ai, explanation, xai\n",
            "Silhouette Score: 0.045439736380765136\n"
          ]
        }
      ],
      "source": [
        "# Print cluster centers\n",
        "print(\"Cluster centers:\")\n",
        "for i in range(4):\n",
        "    print(\"Cluster {}: {}\".format(i+1, ', '.join([vectorizer.get_feature_names_out()[ind] for ind in cluster_centers[i].argsort()[-10:]])))\n",
        "\n",
        "# Print silhouette score\n",
        "print(\"Silhouette Score:\", silhouette_avg)"
      ]
    },
    {
      "cell_type": "markdown",
      "metadata": {
        "id": "kit51Y_XqX7v"
      },
      "source": [
        "***Analyze the results and Explain errors:***\n",
        "\n",
        "According to what we saw in the plot above, the data are distributed in space in such a way that there are three main centers, and this explains the evaluation score that we obtained of 0.666 whichis good but not enough because we choose k=4 and we wanted to cluster it into 4 clusters acoording what we think because of the division form we received, where as opposed naturally the distribution of data is 3. Therefore, if we activate the model again with K = 3 definitely we will get better results.\n",
        "another reason of the results is that the clusters are Non-Globular Clusters  as we see abouve . where K-means performs poorly on non-globular clusters, as it tends to create spherical clusters around centroids.\n",
        "\n",
        "and at last also because of the content of the documents, it's obviously that there is common content in the documents in cluster 2,3,4, which lead to bias."
      ]
    }
  ],
  "metadata": {
    "colab": {
      "provenance": []
    },
    "kernelspec": {
      "display_name": "Python 3",
      "name": "python3"
    },
    "language_info": {
      "name": "python"
    }
  },
  "nbformat": 4,
  "nbformat_minor": 0
}
